{
 "cells": [
  {
   "cell_type": "markdown",
   "metadata": {},
   "source": [
    "## Run the dependant pipelines"
   ]
  },
  {
   "cell_type": "code",
   "execution_count": 49,
   "metadata": {},
   "outputs": [
    {
     "name": "stderr",
     "output_type": "stream",
     "text": [
      "[./committees/kns_committeesession:T_0] >>> INFO    :cba22646 RUNNING ./committees/kns_committeesession\n",
      "[./committees/kns_committeesession:T_0] >>> INFO    :cba22646 Collecting dependencies\n",
      "[./committees/kns_committeesession:T_0] >>> INFO    :cba22646 Running async task\n",
      "[./committees/kns_committeesession:T_0] >>> INFO    :cba22646 Waiting for completion\n",
      "[./committees/kns_committeesession:T_0] >>> INFO    :cba22646 Async task starting\n",
      "[./committees/kns_committeesession:T_0] >>> INFO    :cba22646 Building process chain:\n",
      "[./committees/kns_committeesession:T_0] >>> INFO    :- load_resource\n",
      "[./committees/kns_committeesession:T_0] >>> INFO    :- knesset.dump_to_path\n",
      "[./committees/kns_committeesession:T_0] >>> INFO    :- knesset.dump_to_sql\n",
      "[./committees/kns_committeesession:T_0] >>> INFO    :- (sink)\n",
      "[./members/mk_individual:T_1] >>> INFO    :e2d6f365 RUNNING ./members/mk_individual\n",
      "[./members/mk_individual:T_1] >>> INFO    :e2d6f365 Collecting dependencies\n",
      "[./members/mk_individual:T_1] >>> INFO    :e2d6f365 Running async task\n",
      "[./members/mk_individual:T_1] >>> INFO    :e2d6f365 Waiting for completion\n",
      "[./members/mk_individual:T_1] >>> INFO    :e2d6f365 Async task starting\n",
      "[./members/mk_individual:T_1] >>> INFO    :e2d6f365 Building process chain:\n",
      "[./members/mk_individual:T_1] >>> INFO    :- load_resource\n",
      "[./members/mk_individual:T_1] >>> INFO    :- knesset.dump_to_path\n",
      "[./members/mk_individual:T_1] >>> INFO    :- knesset.dump_to_sql\n",
      "[./committees/kns_committeesession:T_0] >>> INFO    :load_resource: DEBUG   :Starting new HTTP connection (1): storage.googleapis.com:80\n",
      "[./committees/kns_committeesession:T_0] >>> INFO    :load_resource: DEBUG   :http://storage.googleapis.com:80 \"GET /knesset-data-pipelines/data/committees/kns_committeesession/datapackage.json HTTP/1.1\" 200 3751\n",
      "[./members/mk_individual:T_1] >>> INFO    :- (sink)\n",
      "[./committees/kns_committeesession:T_0] >>> INFO    :load_resource: DEBUG   :Starting new HTTP connection (1): storage.googleapis.com:80\n",
      "[./committees/kns_committeesession:T_0] >>> INFO    :load_resource: DEBUG   :http://storage.googleapis.com:80 \"GET /knesset-data-pipelines/data/committees/kns_committeesession/datapackage.json HTTP/1.1\" 200 3751\n",
      "[./members/mk_individual:T_1] >>> INFO    :load_resource: DEBUG   :Starting new HTTP connection (1): storage.googleapis.com:80\n",
      "[./members/mk_individual:T_1] >>> INFO    :load_resource: DEBUG   :http://storage.googleapis.com:80 \"GET /knesset-data-pipelines/data/members/mk_individual/datapackage.json HTTP/1.1\" 200 14563\n",
      "[./committees/kns_committeesession:T_0] >>> INFO    :load_resource: DEBUG   :Starting new HTTP connection (1): storage.googleapis.com:80\n",
      "[./committees/kns_committeesession:T_0] >>> INFO    :load_resource: DEBUG   :http://storage.googleapis.com:80 \"GET /knesset-data-pipelines/data/committees/kns_committeesession/kns_committeesession.csv HTTP/1.1\" 200 41799011\n",
      "[./members/mk_individual:T_1] >>> INFO    :load_resource: DEBUG   :Starting new HTTP connection (1): storage.googleapis.com:80\n",
      "[./members/mk_individual:T_1] >>> INFO    :load_resource: DEBUG   :http://storage.googleapis.com:80 \"GET /knesset-data-pipelines/data/members/mk_individual/datapackage.json HTTP/1.1\" 200 14563\n",
      "[./committees/kns_committeesession:T_0] >>> INFO    :load_resource: DEBUG   :Starting new HTTP connection (2): storage.googleapis.com:80\n",
      "[./members/mk_individual:T_1] >>> INFO    :load_resource: DEBUG   :Starting new HTTP connection (1): storage.googleapis.com:80\n",
      "[./members/mk_individual:T_1] >>> INFO    :load_resource: DEBUG   :http://storage.googleapis.com:80 \"GET /knesset-data-pipelines/data/members/mk_individual/mk_individual_positions.csv HTTP/1.1\" 200 7154433\n",
      "[./members/mk_individual:T_1] >>> INFO    :load_resource: DEBUG   :Starting new HTTP connection (2): storage.googleapis.com:80\n",
      "[./committees/kns_committeesession:T_0] >>> INFO    :load_resource: DEBUG   :http://storage.googleapis.com:80 \"GET /knesset-data-pipelines/data/committees/kns_committeesession/kns_committeesession.csv HTTP/1.1\" 200 41799011\n",
      "[./committees/kns_committeesession:T_0] >>> INFO    :load_resource: INFO    :loaded 10000 rows\n",
      "[./committees/kns_committeesession:T_0] >>> INFO    :load_resource: INFO    :loaded 20000 rows\n",
      "[./committees/kns_committeesession:T_0] >>> INFO    :load_resource: INFO    :loaded 30000 rows\n",
      "[./committees/kns_committeesession:T_0] >>> INFO    :load_resource: INFO    :loaded 40000 rows\n",
      "[./committees/kns_committeesession:T_0] >>> INFO    :load_resource: INFO    :loaded 50000 rows\n",
      "[./committees/kns_committeesession:T_0] >>> INFO    :load_resource: INFO    :loaded 60000 rows\n",
      "[./committees/kns_committeesession:T_0] >>> INFO    :load_resource: INFO    :loaded 70000 rows\n",
      "[./committees/kns_committeesession:T_0] >>> INFO    :load_resource: INFO    :Processed 74409 rows\n",
      "[./committees/kns_committeesession:T_0] >>> INFO    :cba22646 DONE /usr/local/lib/python3.6/site-packages/datapackage_pipelines/specs/../lib/load_resource.py\n",
      "[./committees/kns_committeesession:T_0] >>> INFO    :knesset.dump_to_path: INFO    :Processed 74409 rows\n",
      "[./committees/kns_committeesession:T_0] >>> INFO    :knesset.dump_to_sql: INFO    :Processed 74409 rows\n",
      "[./committees/kns_committeesession:T_0] >>> INFO    :cba22646 DONE /usr/local/lib/python3.6/site-packages/datapackage_pipelines/manager/../lib/internal/sink.py\n",
      "[./committees/kns_committeesession:T_0] >>> INFO    :cba22646 DONE /pipelines/datapackage_pipelines_knesset/processors/dump_to_path.py\n",
      "[./committees/kns_committeesession:T_0] >>> INFO    :cba22646 DONE /pipelines/datapackage_pipelines_knesset/processors/dump_to_sql.py\n",
      "[./committees/kns_committeesession:T_0] >>> INFO    :cba22646 DONE V ./committees/kns_committeesession {'.dpp': {'out-datapackage-url': '../data/committees/kns_committeesession/datapackage.json'}, 'bytes': None, 'count_of_rows': 74409, 'dataset_name': '_', 'hash': '69ff9c2cc04646502e81a5dc795f85ea'}\n",
      "[./members/mk_individual:T_1] >>> INFO    :load_resource: DEBUG   :http://storage.googleapis.com:80 \"GET /knesset-data-pipelines/data/members/mk_individual/mk_individual_positions.csv HTTP/1.1\" 200 7154433\n",
      "[./members/mk_individual:T_1] >>> INFO    :load_resource: DEBUG   :Starting new HTTP connection (1): storage.googleapis.com:80\n",
      "[./members/mk_individual:T_1] >>> INFO    :load_resource: DEBUG   :http://storage.googleapis.com:80 \"GET /knesset-data-pipelines/data/members/mk_individual/mk_individual.csv HTTP/1.1\" 200 233706\n",
      "[./members/mk_individual:T_1] >>> INFO    :load_resource: DEBUG   :Starting new HTTP connection (2): storage.googleapis.com:80\n",
      "[./members/mk_individual:T_1] >>> INFO    :load_resource: DEBUG   :http://storage.googleapis.com:80 \"GET /knesset-data-pipelines/data/members/mk_individual/mk_individual.csv HTTP/1.1\" 200 233706\n",
      "[./members/mk_individual:T_1] >>> INFO    :load_resource: DEBUG   :Starting new HTTP connection (1): storage.googleapis.com:80\n",
      "[./members/mk_individual:T_1] >>> INFO    :load_resource: DEBUG   :http://storage.googleapis.com:80 \"GET /knesset-data-pipelines/data/members/mk_individual/kns_knessetdates.csv HTTP/1.1\" 200 14303\n",
      "[./members/mk_individual:T_1] >>> INFO    :load_resource: DEBUG   :Starting new HTTP connection (2): storage.googleapis.com:80\n",
      "[./members/mk_individual:T_1] >>> INFO    :load_resource: DEBUG   :http://storage.googleapis.com:80 \"GET /knesset-data-pipelines/data/members/mk_individual/kns_knessetdates.csv HTTP/1.1\" 200 14303\n",
      "[./members/mk_individual:T_1] >>> INFO    :load_resource: DEBUG   :Starting new HTTP connection (1): storage.googleapis.com:80\n",
      "[./members/mk_individual:T_1] >>> INFO    :load_resource: DEBUG   :http://storage.googleapis.com:80 \"GET /knesset-data-pipelines/data/members/mk_individual/mk_individual_names.csv HTTP/1.1\" 200 50721\n",
      "[./members/mk_individual:T_1] >>> INFO    :load_resource: DEBUG   :Starting new HTTP connection (2): storage.googleapis.com:80\n",
      "[./members/mk_individual:T_1] >>> INFO    :load_resource: DEBUG   :http://storage.googleapis.com:80 \"GET /knesset-data-pipelines/data/members/mk_individual/mk_individual_names.csv HTTP/1.1\" 200 50721\n",
      "[./members/mk_individual:T_1] >>> INFO    :load_resource: DEBUG   :Starting new HTTP connection (1): storage.googleapis.com:80\n",
      "[./members/mk_individual:T_1] >>> INFO    :load_resource: DEBUG   :http://storage.googleapis.com:80 \"GET /knesset-data-pipelines/data/members/mk_individual/mk_individual_factions.csv HTTP/1.1\" 200 184671\n",
      "[./members/mk_individual:T_1] >>> INFO    :load_resource: DEBUG   :Starting new HTTP connection (2): storage.googleapis.com:80\n",
      "[./members/mk_individual:T_1] >>> INFO    :load_resource: DEBUG   :http://storage.googleapis.com:80 \"GET /knesset-data-pipelines/data/members/mk_individual/mk_individual_factions.csv HTTP/1.1\" 200 184671\n",
      "[./members/mk_individual:T_1] >>> INFO    :load_resource: DEBUG   :Starting new HTTP connection (1): storage.googleapis.com:80\n",
      "[./members/mk_individual:T_1] >>> INFO    :load_resource: DEBUG   :http://storage.googleapis.com:80 \"GET /knesset-data-pipelines/data/members/mk_individual/mk_individual_faction_chairpersons.csv HTTP/1.1\" 200 5484\n",
      "[./members/mk_individual:T_1] >>> INFO    :load_resource: DEBUG   :http://storage.googleapis.com:80 \"GET /knesset-data-pipelines/data/members/mk_individual/mk_individual_faction_chairpersons.csv HTTP/1.1\" 200 5484\n",
      "[./members/mk_individual:T_1] >>> INFO    :load_resource: DEBUG   :Starting new HTTP connection (1): storage.googleapis.com:80\n",
      "[./members/mk_individual:T_1] >>> INFO    :load_resource: DEBUG   :http://storage.googleapis.com:80 \"GET /knesset-data-pipelines/data/members/mk_individual/mk_individual_committees.csv HTTP/1.1\" 200 1019784\n",
      "[./members/mk_individual:T_1] >>> INFO    :load_resource: DEBUG   :Starting new HTTP connection (2): storage.googleapis.com:80\n",
      "[./members/mk_individual:T_1] >>> INFO    :load_resource: DEBUG   :http://storage.googleapis.com:80 \"GET /knesset-data-pipelines/data/members/mk_individual/mk_individual_committees.csv HTTP/1.1\" 200 1019784\n",
      "[./members/mk_individual:T_1] >>> INFO    :load_resource: DEBUG   :Starting new HTTP connection (1): storage.googleapis.com:80\n",
      "[./members/mk_individual:T_1] >>> INFO    :load_resource: DEBUG   :http://storage.googleapis.com:80 \"GET /knesset-data-pipelines/data/members/mk_individual/mk_individual_govministries.csv HTTP/1.1\" 200 99302\n",
      "[./members/mk_individual:T_1] >>> INFO    :load_resource: DEBUG   :Starting new HTTP connection (2): storage.googleapis.com:80\n",
      "[./members/mk_individual:T_1] >>> INFO    :load_resource: DEBUG   :http://storage.googleapis.com:80 \"GET /knesset-data-pipelines/data/members/mk_individual/mk_individual_govministries.csv HTTP/1.1\" 200 99302\n",
      "[./members/mk_individual:T_1] >>> INFO    :load_resource: DEBUG   :Starting new HTTP connection (1): storage.googleapis.com:80\n",
      "[./members/mk_individual:T_1] >>> INFO    :load_resource: DEBUG   :http://storage.googleapis.com:80 \"GET /knesset-data-pipelines/data/members/mk_individual/factions.csv HTTP/1.1\" 200 21670\n",
      "[./members/mk_individual:T_1] >>> INFO    :load_resource: DEBUG   :Starting new HTTP connection (2): storage.googleapis.com:80\n",
      "[./members/mk_individual:T_1] >>> INFO    :load_resource: DEBUG   :http://storage.googleapis.com:80 \"GET /knesset-data-pipelines/data/members/mk_individual/factions.csv HTTP/1.1\" 200 21670\n",
      "[./members/mk_individual:T_1] >>> INFO    :load_resource: DEBUG   :Starting new HTTP connection (1): storage.googleapis.com:80\n",
      "[./members/mk_individual:T_1] >>> INFO    :load_resource: DEBUG   :http://storage.googleapis.com:80 \"GET /knesset-data-pipelines/data/members/mk_individual/faction_memberships.csv HTTP/1.1\" 200 126687\n",
      "[./members/mk_individual:T_1] >>> INFO    :load_resource: DEBUG   :Starting new HTTP connection (2): storage.googleapis.com:80\n",
      "[./members/mk_individual:T_1] >>> INFO    :load_resource: DEBUG   :http://storage.googleapis.com:80 \"GET /knesset-data-pipelines/data/members/mk_individual/faction_memberships.csv HTTP/1.1\" 200 126687\n",
      "[./members/mk_individual:T_1] >>> INFO    :load_resource: INFO    :Processed 18342 rows\n",
      "[./members/mk_individual:T_1] >>> INFO    :knesset.dump_to_path: INFO    :Processed 18342 rows\n",
      "[./members/mk_individual:T_1] >>> INFO    :knesset.dump_to_sql: INFO    :Processed 18342 rows\n",
      "[./members/mk_individual:T_1] >>> INFO    :e2d6f365 DONE /usr/local/lib/python3.6/site-packages/datapackage_pipelines/specs/../lib/load_resource.py\n",
      "[./members/mk_individual:T_1] >>> INFO    :e2d6f365 DONE /usr/local/lib/python3.6/site-packages/datapackage_pipelines/manager/../lib/internal/sink.py\n",
      "[./members/mk_individual:T_1] >>> INFO    :e2d6f365 DONE /pipelines/datapackage_pipelines_knesset/processors/dump_to_path.py\n",
      "[./members/mk_individual:T_1] >>> INFO    :e2d6f365 DONE /pipelines/datapackage_pipelines_knesset/processors/dump_to_sql.py\n",
      "[./members/mk_individual:T_1] >>> INFO    :e2d6f365 DONE V ./members/mk_individual {'.dpp': {'out-datapackage-url': '../data/members/mk_individual/datapackage.json'}, 'bytes': None, 'count_of_rows': 18342, 'dataset_name': '_', 'hash': 'd94b918b09316158156804fda0cbb854'}\n",
      "INFO    :RESULTS:\n",
      "INFO    :SUCCESS: ./committees/kns_committeesession {'bytes': None, 'count_of_rows': 74409, 'dataset_name': '_', 'hash': '69ff9c2cc04646502e81a5dc795f85ea'}\n",
      "INFO    :SUCCESS: ./members/mk_individual {'bytes': None, 'count_of_rows': 18342, 'dataset_name': '_', 'hash': 'd94b918b09316158156804fda0cbb854'}\n"
     ]
    }
   ],
   "source": [
    "%%bash\n",
    "cd /pipelines\n",
    "KNESSET_LOAD_FROM_URL=1 KNESSET_DATASERVICE_INCREMENTAL= \\\n",
    "  dpp run --no-use-cache --concurrency 2 --verbose \\\n",
    "    ./committees/kns_committeesession,./members/mk_individual"
   ]
  },
  {
   "cell_type": "markdown",
   "metadata": {},
   "source": [
    "## Inspect the source data\n",
    "\n",
    "Choose a committee session ID to focus on, make sure it has all the fields"
   ]
  },
  {
   "cell_type": "code",
   "execution_count": 23,
   "metadata": {},
   "outputs": [],
   "source": [
    "CommitteeSessionID = 2059313"
   ]
  },
  {
   "cell_type": "code",
   "execution_count": 26,
   "metadata": {},
   "outputs": [
    {
     "data": {
      "text/html": [
       "<h3>kns_committeesession</h3>"
      ],
      "text/plain": [
       "<IPython.core.display.HTML object>"
      ]
     },
     "metadata": {},
     "output_type": "display_data"
    },
    {
     "data": {
      "text/html": [
       "<table>\n",
       "<thead>\n",
       "<tr><th style=\"text-align: right;\">  #</th><th style=\"text-align: right;\">        CommitteeSessionID\n",
       "(integer)</th><th style=\"text-align: right;\">    Number\n",
       "(integer)</th><th style=\"text-align: right;\">   KnessetNum\n",
       "(integer)</th><th style=\"text-align: right;\">    TypeID\n",
       "(integer)</th><th>TypeDesc\n",
       "(string)      </th><th style=\"text-align: right;\">  CommitteeID\n",
       "(integer)</th><th>Location\n",
       "(string)                                                  </th><th>SessionUrl\n",
       "(string)                                                                                                   </th><th>BroadcastUrl\n",
       "(string)     </th><th>StartDate\n",
       "(datetime)                    </th><th>FinishDate\n",
       "(datetime)                    </th><th>Note\n",
       "(string)                                                                                                         </th><th>LastUpdatedDate\n",
       "(datetime)                    </th><th>download_crc32c\n",
       "(string)         </th><th>download_filename\n",
       "(string)                        </th><th style=\"text-align: right;\">      download_filesize\n",
       "(integer)</th><th>parts_crc32c\n",
       "(string)         </th><th style=\"text-align: right;\">       parts_filesize\n",
       "(integer)</th><th>parts_parsed_filename\n",
       "(string)                      </th><th>text_crc32c\n",
       "(string)         </th><th style=\"text-align: right;\">       text_filesize\n",
       "(integer)</th><th>text_parsed_filename\n",
       "(string)                      </th><th>topics\n",
       "(array)     </th><th>committee_name\n",
       "(string)       </th></tr>\n",
       "</thead>\n",
       "<tbody>\n",
       "<tr><td style=\"text-align: right;\">  1</td><td style=\"text-align: right;\">2059313</td><td style=\"text-align: right;\">462</td><td style=\"text-align: right;\">15</td><td style=\"text-align: right;\">161</td><td>פתוחה</td><td style=\"text-align: right;\">2</td><td>חדר הוועדה, באגף הוועדות (קדמה), קומה 3, חדר 3750</td><td>http://main.knesset.gov.il/Activity/committees/Pages/AllCommitteesAgenda.aspx?Tab=3&ItemID=2059313</td><td>None</td><td>2002-11-19 00:00:00</td><td>2002-11-19 00:00:00</td><td>הצעת חוק ההסדרים במשק המדינה (תיקוני חקיקה להשגת יעדי התקציב והמדיניות הכלכלית לשנת הכספים 2003, התש ...</td><td>2018-10-10 11:03:06</td><td>+lu4+A==</td><td>files/23/4/3/430592.DOC</td><td style=\"text-align: right;\">91162</td><td>x9rEiQ==</td><td style=\"text-align: right;\">194576</td><td>files/2/0/2059313.csv</td><td>jD1Riw==</td><td style=\"text-align: right;\">195031</td><td>files/2/0/2059313.txt</td><td>None</td><td>הכספים</td></tr>\n",
       "</tbody>\n",
       "</table>"
      ],
      "text/plain": [
       "<IPython.core.display.HTML object>"
      ]
     },
     "metadata": {},
     "output_type": "display_data"
    }
   ],
   "source": [
    "from dataflows import Flow, load, printer, filter_rows\n",
    "\n",
    "committeesession_data = Flow(\n",
    "    load('/pipelines/data/committees/kns_committeesession/datapackage.json'),\n",
    "    filter_rows(lambda row: row['CommitteeSessionID'] == CommitteeSessionID),\n",
    "    printer(tablefmt='html')\n",
    ").results()"
   ]
  },
  {
   "cell_type": "markdown",
   "metadata": {},
   "source": [
    "## Download the protocol text"
   ]
  },
  {
   "cell_type": "code",
   "execution_count": 38,
   "metadata": {},
   "outputs": [
    {
     "name": "stdout",
     "output_type": "stream",
     "text": [
      "  % Total    % Received % Xferd  Average Speed   Time    Time     Time  Current\n",
      "                                 Dload  Upload   Total   Spent    Left  Speed\n",
      "100  190k  100  190k    0     0   285k      0 --:--:-- --:--:-- --:--:--  285k\n"
     ]
    }
   ],
   "source": [
    "import os\n",
    "text_url = 'https://storage.googleapis.com/knesset-data-pipelines/data/committees/meeting_protocols_text/{}'.format(committeesession_data[0][0][0]['text_parsed_filename'])\n",
    "filename = '/pipelines/data/committees/meeting_protocols_text/{}'.format(committeesession_data[0][0][0]['text_parsed_filename'])\n",
    "os.makedirs(os.path.dirname(filename), exist_ok=True)\n",
    "cmd = 'curl {} > {}'.format(text_url, filename)\n",
    "!{cmd}"
   ]
  },
  {
   "cell_type": "markdown",
   "metadata": {},
   "source": [
    "## Modify the pipeline yaml to run on the selected committee session ID\n",
    "\n",
    "Under `committee-meeting-attendees:` set the following to parse a single meeting (+add cache):\n",
    "\n",
    "```\n",
    "  - run: filter\n",
    "    cache: true\n",
    "    parameters:\n",
    "      resources: kns_committeesession\n",
    "      in:\n",
    "      - CommitteeSessionID: 2068104\n",
    "  - run: committee_meeting_attendees\n",
    "    # parameters:\n",
    "    #   filter-meeting-id: [2068104]\n",
    "```"
   ]
  },
  {
   "cell_type": "markdown",
   "metadata": {},
   "source": [
    "## Delete the cache hash and run the pipeline"
   ]
  },
  {
   "cell_type": "code",
   "execution_count": 47,
   "metadata": {},
   "outputs": [
    {
     "name": "stderr",
     "output_type": "stream",
     "text": [
      "[./people/committee-meeting-attendees:T_0] >>> INFO    :8a208434 RUNNING ./people/committee-meeting-attendees\n",
      "[./people/committee-meeting-attendees:T_0] >>> INFO    :8a208434 Collecting dependencies\n",
      "[./people/committee-meeting-attendees:T_0] >>> INFO    :8a208434 Running async task\n",
      "[./people/committee-meeting-attendees:T_0] >>> INFO    :8a208434 Waiting for completion\n",
      "[./people/committee-meeting-attendees:T_0] >>> INFO    :8a208434 Async task starting\n",
      "[./people/committee-meeting-attendees:T_0] >>> INFO    :8a208434 Searching for existing caches\n",
      "[./people/committee-meeting-attendees:T_0] >>> INFO    :Found cache for step 3: filter\n",
      "[./people/committee-meeting-attendees:T_0] >>> INFO    :8a208434 Building process chain:\n",
      "[./people/committee-meeting-attendees:T_0] >>> INFO    :- cache_loader\n",
      "[./people/committee-meeting-attendees:T_0] >>> INFO    :- committee_meeting_attendees\n",
      "[./people/committee-meeting-attendees:T_0] >>> INFO    :- join_committee_meeting_attendees_mks\n",
      "[./people/committee-meeting-attendees:T_0] >>> INFO    :- knesset.dump_to_path\n",
      "[./people/committee-meeting-attendees:T_0] >>> INFO    :- knesset.dump_to_sql\n",
      "[./people/committee-meeting-attendees:T_0] >>> INFO    :- (sink)\n",
      "[./people/committee-meeting-attendees:T_0] >>> INFO    :committee_meeting_attendees: INFO    :getting attendees for meeting 2059313\n",
      "[./people/committee-meeting-attendees:T_0] >>> INFO    :8a208434 DONE /usr/local/lib/python3.6/site-packages/datapackage_pipelines/specs/../lib/cache_loader.py\n",
      "[./people/committee-meeting-attendees:T_0] >>> INFO    :committee_meeting_attendees: INFO    :Processed 1016 rows\n",
      "[./people/committee-meeting-attendees:T_0] >>> INFO    :8a208434 DONE /pipelines/people/committee_meeting_attendees.py\n",
      "[./people/committee-meeting-attendees:T_0] >>> INFO    :join_committee_meeting_attendees_mks: INFO    :Processed 1 rows\n",
      "[./people/committee-meeting-attendees:T_0] >>> INFO    :knesset.dump_to_path: INFO    :Processed 1 rows\n",
      "[./people/committee-meeting-attendees:T_0] >>> INFO    :8a208434 DONE /pipelines/people/join_committee_meeting_attendees_mks.py\n",
      "[./people/committee-meeting-attendees:T_0] >>> INFO    :knesset.dump_to_sql: INFO    :Processed 1 rows\n",
      "[./people/committee-meeting-attendees:T_0] >>> INFO    :8a208434 DONE /pipelines/datapackage_pipelines_knesset/processors/dump_to_path.py\n",
      "[./people/committee-meeting-attendees:T_0] >>> INFO    :8a208434 DONE /usr/local/lib/python3.6/site-packages/datapackage_pipelines/manager/../lib/internal/sink.py\n",
      "[./people/committee-meeting-attendees:T_0] >>> INFO    :8a208434 DONE /pipelines/datapackage_pipelines_knesset/processors/dump_to_sql.py\n",
      "[./people/committee-meeting-attendees:T_0] >>> INFO    :8a208434 DONE V ./people/committee-meeting-attendees {'.dpp': {'out-datapackage-url': '../data/people/committees/meeting-attendees/datapackage.json'}, 'bytes': None, 'count_of_rows': 1, 'dataset_name': '_', 'hash': 'b930d619b391d8f667d60cecc2a95243'}\n",
      "INFO    :RESULTS:\n",
      "INFO    :SUCCESS: ./people/committee-meeting-attendees {'bytes': None, 'count_of_rows': 1, 'dataset_name': '_', 'hash': 'b930d619b391d8f667d60cecc2a95243'}\n"
     ]
    }
   ],
   "source": [
    "%%bash\n",
    "cd /pipelines\n",
    "rm -rf data/people/committees/meeting-attendees/cache_hash\n",
    "KNESSET_DATASERVICE_INCREMENTAL= \\\n",
    "  dpp run --verbose \\\n",
    "    ./people/committee-meeting-attendees"
   ]
  },
  {
   "cell_type": "markdown",
   "metadata": {},
   "source": [
    "## Inspect the data"
   ]
  },
  {
   "cell_type": "code",
   "execution_count": 48,
   "metadata": {},
   "outputs": [
    {
     "data": {
      "text/html": [
       "<h3>kns_committeesession</h3>"
      ],
      "text/plain": [
       "<IPython.core.display.HTML object>"
      ]
     },
     "metadata": {},
     "output_type": "display_data"
    },
    {
     "data": {
      "text/html": [
       "<table>\n",
       "<thead>\n",
       "<tr><th style=\"text-align: right;\">  #</th><th style=\"text-align: right;\">        CommitteeSessionID\n",
       "(integer)</th><th style=\"text-align: right;\">    Number\n",
       "(integer)</th><th style=\"text-align: right;\">   KnessetNum\n",
       "(integer)</th><th style=\"text-align: right;\">    TypeID\n",
       "(integer)</th><th>TypeDesc\n",
       "(string)      </th><th style=\"text-align: right;\">  CommitteeID\n",
       "(integer)</th><th>Location\n",
       "(string)                                                  </th><th>SessionUrl\n",
       "(string)                                                                                                   </th><th>BroadcastUrl\n",
       "(string)     </th><th>StartDate\n",
       "(datetime)                    </th><th>FinishDate\n",
       "(datetime)                    </th><th>Note\n",
       "(string)                                                                                                         </th><th>LastUpdatedDate\n",
       "(datetime)                    </th><th>download_crc32c\n",
       "(string)         </th><th>download_filename\n",
       "(string)                        </th><th style=\"text-align: right;\">      download_filesize\n",
       "(integer)</th><th>parts_crc32c\n",
       "(string)         </th><th style=\"text-align: right;\">       parts_filesize\n",
       "(integer)</th><th>parts_parsed_filename\n",
       "(string)                      </th><th>text_crc32c\n",
       "(string)         </th><th style=\"text-align: right;\">       text_filesize\n",
       "(integer)</th><th>text_parsed_filename\n",
       "(string)                      </th><th>topics\n",
       "(array)     </th><th>committee_name\n",
       "(string)       </th><th>mks\n",
       "(array)                                                                                            </th><th>invitees\n",
       "(array)                                                                                                         </th><th>legal_advisors\n",
       "(array)                                                   </th><th>manager\n",
       "(array)             </th><th>financial_advisors\n",
       "(array)   </th><th>attended_mk_individual_ids\n",
       "(array)                                        </th></tr>\n",
       "</thead>\n",
       "<tbody>\n",
       "<tr><td style=\"text-align: right;\">  1</td><td style=\"text-align: right;\">2059313</td><td style=\"text-align: right;\">462</td><td style=\"text-align: right;\">15</td><td style=\"text-align: right;\">161</td><td>פתוחה</td><td style=\"text-align: right;\">2</td><td>חדר הוועדה, באגף הוועדות (קדמה), קומה 3, חדר 3750</td><td>http://main.knesset.gov.il/Activity/committees/Pages/AllCommitteesAgenda.aspx?Tab=3&ItemID=2059313</td><td>None</td><td>2002-11-19 00:00:00</td><td>2002-11-19 00:00:00</td><td>הצעת חוק ההסדרים במשק המדינה (תיקוני חקיקה להשגת יעדי התקציב והמדיניות הכלכלית לשנת הכספים 2003, התש ...</td><td>2018-10-10 11:03:06</td><td>+lu4+A==</td><td>files/23/4/3/430592.DOC</td><td style=\"text-align: right;\">91162</td><td>x9rEiQ==</td><td style=\"text-align: right;\">194576</td><td>files/2/0/2059313.csv</td><td>jD1Riw==</td><td style=\"text-align: right;\">195031</td><td>files/2/0/2059313.txt</td><td>None</td><td>הכספים</td><td>['יעקב ליצמן - היו\"ר', 'אבשלום וילן', 'עופר חוגי', 'אמנון כהן', 'רחמים מלול', 'משולם נהרי']</td><td>[{'name': 'חה\"כ צבי הנדל'}, {'name': 'חה\"כ עמיר פרץ'}, {'name': 'יעקב ניזרי-סמנכ\"ל שירות התעסוקה, מש ...</td><td>['שגית אפיק', 'ליאורה סידי (מתמחה)', 'אנה שניידר']</td><td>['טמיר כהן']</td><td>[]</td><td>[105, 203, 46, 207, 210, 216, 219, 222]</td></tr>\n",
       "</tbody>\n",
       "</table>"
      ],
      "text/plain": [
       "<IPython.core.display.HTML object>"
      ]
     },
     "metadata": {},
     "output_type": "display_data"
    },
    {
     "data": {
      "text/plain": [
       "(<datapackage.package.Package at 0x7f83c0bd1748>, {})"
      ]
     },
     "execution_count": 48,
     "metadata": {},
     "output_type": "execute_result"
    }
   ],
   "source": [
    "from dataflows import Flow, load, printer\n",
    "\n",
    "Flow(\n",
    "    load('/pipelines/data/people/committees/meeting-attendees/datapackage.json'),\n",
    "    printer(tablefmt='html')\n",
    ").process()"
   ]
  }
 ],
 "metadata": {
  "kernelspec": {
   "display_name": "Python 3",
   "language": "python",
   "name": "python3"
  },
  "language_info": {
   "codemirror_mode": {
    "name": "ipython",
    "version": 3
   },
   "file_extension": ".py",
   "mimetype": "text/x-python",
   "name": "python",
   "nbconvert_exporter": "python",
   "pygments_lexer": "ipython3",
   "version": "3.6.6"
  }
 },
 "nbformat": 4,
 "nbformat_minor": 2
}
