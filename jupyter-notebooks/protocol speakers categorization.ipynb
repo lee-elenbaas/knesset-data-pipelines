{
 "cells": [
  {
   "cell_type": "markdown",
   "metadata": {},
   "source": [
    "# Protocol speakers categorization\n",
    "\n",
    "Notebook is not relevant anymore, all logic moved to the following pipelines:\n",
    "\n",
    "* committees/kns_committeesession\n",
    "* people/committee-meeting-speaker-stats\n"
   ]
  }
 ],
 "metadata": {
  "kernelspec": {
   "display_name": "Python 3",
   "language": "python",
   "name": "python3"
  },
  "language_info": {
   "codemirror_mode": {
    "name": "ipython",
    "version": 3
   },
   "file_extension": ".py",
   "mimetype": "text/x-python",
   "name": "python",
   "nbconvert_exporter": "python",
   "pygments_lexer": "ipython3",
   "version": "3.6.6"
  }
 },
 "nbformat": 4,
 "nbformat_minor": 2
}
