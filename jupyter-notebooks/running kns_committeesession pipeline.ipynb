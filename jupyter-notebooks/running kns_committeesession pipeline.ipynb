{
 "cells": [
  {
   "cell_type": "markdown",
   "metadata": {},
   "source": [
    "## Running kns_committeesession pipeline\n",
    "\n",
    "### Run dependant pipelines"
   ]
  },
  {
   "cell_type": "code",
   "execution_count": 32,
   "metadata": {},
   "outputs": [
    {
     "name": "stdout",
     "output_type": "stream",
     "text": [
      "INFO    :RESULTS:\n",
      "INFO    :SUCCESS: ./committees/kns_documentcommitteesession {'bytes': None, 'count_of_rows': 89695, 'dataset_name': '_', 'hash': 'ac64b23b6f5d861c6af83a1a48d9857f'}\n"
     ]
    }
   ],
   "source": [
    "!{'cd /pipelines; KNESSET_LOAD_FROM_URL=1 dpp run ./committees/kns_documentcommitteesession >/dev/null'}"
   ]
  },
  {
   "cell_type": "code",
   "execution_count": 33,
   "metadata": {},
   "outputs": [
    {
     "name": "stdout",
     "output_type": "stream",
     "text": [
      "INFO    :RESULTS:\n",
      "INFO    :SUCCESS: ./committees/kns_committee {'bytes': None, 'count_of_rows': 756, 'dataset_name': '_', 'hash': '42785ce515755831aa4293685710da51'}\n"
     ]
    }
   ],
   "source": [
    "!{'cd /pipelines; KNESSET_LOAD_FROM_URL=1 dpp run ./committees/kns_committee >/dev/null'}"
   ]
  },
  {
   "cell_type": "code",
   "execution_count": 34,
   "metadata": {},
   "outputs": [
    {
     "name": "stdout",
     "output_type": "stream",
     "text": [
      "INFO    :RESULTS:\n",
      "INFO    :SUCCESS: ./committees/kns_cmtsessionitem {'bytes': None, 'count_of_rows': 47595, 'dataset_name': '_', 'hash': '049808f2f8584198e962cb3585e7c970'}\n"
     ]
    }
   ],
   "source": [
    "!{'cd /pipelines; KNESSET_LOAD_FROM_URL=1 dpp run ./committees/kns_cmtsessionitem >/dev/null'}"
   ]
  },
  {
   "cell_type": "code",
   "execution_count": 35,
   "metadata": {},
   "outputs": [
    {
     "name": "stdout",
     "output_type": "stream",
     "text": [
      "INFO    :RESULTS:\n",
      "INFO    :SUCCESS: ./bills/kns_bill {'bytes': None, 'count_of_rows': 44393, 'dataset_name': '_', 'hash': '0b09096c9da4ed1b8084e77e36db3f68'}\n"
     ]
    }
   ],
   "source": [
    "!{'cd /pipelines; KNESSET_LOAD_FROM_URL=1 dpp run ./bills/kns_bill >/dev/null'}"
   ]
  },
  {
   "cell_type": "markdown",
   "metadata": {},
   "source": [
    "### Run the kns_committeesession pipeline\n",
    "\n",
    "Following runs the full pipeline pre/post steps but the actual kns_committeesession is loaded from storage rather then from the knesset API:"
   ]
  },
  {
   "cell_type": "code",
   "execution_count": 44,
   "metadata": {},
   "outputs": [
    {
     "name": "stdout",
     "output_type": "stream",
     "text": [
      "[./committees/kns_committeesession:T_0] >>> INFO    :96b5eac3 RUNNING ./committees/kns_committeesession\n",
      "[./committees/kns_committeesession:T_0] >>> INFO    :96b5eac3 Collecting dependencies\n",
      "[./committees/kns_committeesession:T_0] >>> INFO    :96b5eac3 Running async task\n",
      "[./committees/kns_committeesession:T_0] >>> INFO    :96b5eac3 Waiting for completion\n",
      "[./committees/kns_committeesession:T_0] >>> INFO    :96b5eac3 Async task starting\n",
      "[./committees/kns_committeesession:T_0] >>> INFO    :96b5eac3 Searching for existing caches\n",
      "[./committees/kns_committeesession:T_0] >>> INFO    :Found cache for step 8: join\n",
      "[./committees/kns_committeesession:T_0] >>> INFO    :96b5eac3 Building process chain:\n",
      "[./committees/kns_committeesession:T_0] >>> INFO    :- cache_loader\n",
      "[./committees/kns_committeesession:T_0] >>> INFO    :- join_session_bills\n",
      "[./committees/kns_committeesession:T_0] >>> INFO    :- knesset.dump_to_path\n",
      "[./committees/kns_committeesession:T_0] >>> INFO    :- knesset.dump_to_sql\n",
      "[./committees/kns_committeesession:T_0] >>> INFO    :- (sink)\n",
      "[./committees/kns_committeesession:T_0] >>> INFO    :join_session_bills: INFO    :Processed 74457 rows\n",
      "[./committees/kns_committeesession:T_0] >>> INFO    :96b5eac3 DONE /usr/local/lib/python3.6/site-packages/datapackage_pipelines/specs/../lib/cache_loader.py\n",
      "[./committees/kns_committeesession:T_0] >>> INFO    :96b5eac3 DONE /pipelines/committees/join_session_bills.py\n",
      "[./committees/kns_committeesession:T_0] >>> INFO    :knesset.dump_to_path: INFO    :Processed 74457 rows\n",
      "[./committees/kns_committeesession:T_0] >>> INFO    :knesset.dump_to_sql: INFO    :Processed 74457 rows\n",
      "[./committees/kns_committeesession:T_0] >>> INFO    :96b5eac3 DONE /usr/local/lib/python3.6/site-packages/datapackage_pipelines/manager/../lib/internal/sink.py\n",
      "[./committees/kns_committeesession:T_0] >>> INFO    :96b5eac3 DONE /pipelines/datapackage_pipelines_knesset/processors/dump_to_path.py\n",
      "[./committees/kns_committeesession:T_0] >>> INFO    :96b5eac3 DONE /pipelines/datapackage_pipelines_knesset/processors/dump_to_sql.py\n",
      "[./committees/kns_committeesession:T_0] >>> INFO    :96b5eac3 DONE V ./committees/kns_committeesession {'.dpp': {'out-datapackage-url': '../data/committees/kns_committeesession/datapackage.json'}, 'bytes': None, 'count_of_rows': 74457, 'dataset_name': '_', 'hash': '9eff39d663f87ea8b2b077f82b1735af', 'num_bills': 44393, 'num_sessions_not_related_to_legislation': 39613, 'num_sessions_related_to_legislation': 34844}\n",
      "INFO    :RESULTS:\n",
      "INFO    :SUCCESS: ./committees/kns_committeesession {'bytes': None, 'count_of_rows': 74457, 'dataset_name': '_', 'hash': '9eff39d663f87ea8b2b077f82b1735af', 'num_bills': 44393, 'num_sessions_not_related_to_legislation': 39613, 'num_sessions_related_to_legislation': 34844}\n"
     ]
    }
   ],
   "source": [
    "!{'cd /pipelines; DATASERVICE_LOAD_FROM_URL=1 dpp run --verbose ./committees/kns_committeesession'}"
   ]
  },
  {
   "cell_type": "markdown",
   "metadata": {},
   "source": [
    "## Inspect the output"
   ]
  },
  {
   "cell_type": "code",
   "execution_count": 45,
   "metadata": {},
   "outputs": [],
   "source": [
    "from dataflows import Flow, load, printer\n",
    "sessions = Flow(load('/pipelines/data/committees/kns_committeesession/datapackage.json')).results()[0][0]"
   ]
  },
  {
   "cell_type": "code",
   "execution_count": 46,
   "metadata": {},
   "outputs": [],
   "source": [
    "sessions = {s['CommitteeSessionID']: s for s in sessions}"
   ]
  },
  {
   "cell_type": "code",
   "execution_count": 47,
   "metadata": {},
   "outputs": [
    {
     "data": {
      "text/plain": [
       "{'CommitteeSessionID': 64990,\n",
       " 'Number': None,\n",
       " 'KnessetNum': 15,\n",
       " 'TypeID': 161,\n",
       " 'TypeDesc': 'פתוחה',\n",
       " 'CommitteeID': 25,\n",
       " 'Location': 'חדר הוועדה, באגף קדמה, קומה 1, חדר 1720',\n",
       " 'SessionUrl': 'http://main.knesset.gov.il/Activity/committees/Pages/AllCommitteesAgenda.aspx?Tab=3&ItemID=64990',\n",
       " 'BroadcastUrl': None,\n",
       " 'StartDate': datetime.datetime(2002, 6, 12, 9, 0),\n",
       " 'FinishDate': None,\n",
       " 'Note': None,\n",
       " 'LastUpdatedDate': datetime.datetime(2011, 4, 12, 5, 28, 59),\n",
       " 'download_crc32c': None,\n",
       " 'download_filename': None,\n",
       " 'download_filesize': None,\n",
       " 'parts_crc32c': None,\n",
       " 'parts_filesize': None,\n",
       " 'parts_parsed_filename': None,\n",
       " 'text_crc32c': None,\n",
       " 'text_filesize': None,\n",
       " 'text_parsed_filename': None,\n",
       " 'topics': ['חוק הבחירות לכנסת (תיקון מס\\' 52), התשס\"ד-2004'],\n",
       " 'committee_name': 'החוקה, חוק ומשפט',\n",
       " 'item_ids': [17755],\n",
       " 'item_type_ids': [2],\n",
       " 'bill_names': ['חוק הבחירות לכנסת (תיקון מס\\' 52), התשס\"ד-2004'],\n",
       " 'bill_types': ['פרטית'],\n",
       " 'related_to_legislation': True}"
      ]
     },
     "execution_count": 47,
     "metadata": {},
     "output_type": "execute_result"
    }
   ],
   "source": [
    "for session in sessions.values():\n",
    "    if session['item_ids']:\n",
    "        break\n",
    "session"
   ]
  }
 ],
 "metadata": {
  "kernelspec": {
   "display_name": "Python 3",
   "language": "python",
   "name": "python3"
  },
  "language_info": {
   "codemirror_mode": {
    "name": "ipython",
    "version": 3
   },
   "file_extension": ".py",
   "mimetype": "text/x-python",
   "name": "python",
   "nbconvert_exporter": "python",
   "pygments_lexer": "ipython3",
   "version": "3.6.6"
  }
 },
 "nbformat": 4,
 "nbformat_minor": 2
}
