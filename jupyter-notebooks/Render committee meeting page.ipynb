{
 "cells": [
  {
   "cell_type": "markdown",
   "metadata": {},
   "source": [
    "# Render a committee meeting page using dpp\n",
    "\n",
    "[dpp](https://github.com/frictionlessdata/datapackage-pipelines) runs the knesset data pipelines periodically on our server.\n",
    "\n",
    "This notebook shows how to run pipelines that render a single committee meeting page, part of the committees/dist pipelines which generate the static website at https://oknesset.org"
   ]
  },
  {
   "cell_type": "markdown",
   "metadata": {},
   "source": [
    "## Redirect stdout to terminal\n",
    "\n",
    "Pipelines output is viewed better this way."
   ]
  },
  {
   "cell_type": "code",
   "execution_count": 1,
   "metadata": {},
   "outputs": [],
   "source": [
    "import sys\n",
    "sys.stdout = sys.__stdout__"
   ]
  },
  {
   "cell_type": "markdown",
   "metadata": {},
   "source": [
    "## Change to the pipelines project root directory\n",
    "\n",
    "Assuming you are running using Docker, as instructed in the README"
   ]
  },
  {
   "cell_type": "code",
   "execution_count": 2,
   "metadata": {},
   "outputs": [
    {
     "name": "stderr",
     "output_type": "stream",
     "text": [
      "/pipelines\n"
     ]
    }
   ],
   "source": [
    "import os\n",
    "\n",
    "if os.getcwd() != '/pipelines':\n",
    "    os.chdir('..')\n",
    "\n",
    "PIPELINES_ROOT_DIR = os.getcwd()\n",
    "\n",
    "print(PIPELINES_ROOT_DIR, file=sys.stderr)"
   ]
  },
  {
   "cell_type": "markdown",
   "metadata": {},
   "source": [
    "## Load the source data\n",
    "\n",
    "Download the source data, can take a few minutes.\n",
    "\n",
    "You can follow progress in the terminal output."
   ]
  },
  {
   "cell_type": "code",
   "execution_count": 3,
   "metadata": {},
   "outputs": [],
   "source": [
    "!{'KNESSET_LOAD_FROM_URL=1 dpp run --concurrency 4 '\\\n",
    "  './committees/kns_committee,'\\\n",
    "  './people/committee-meeting-attendees,'\\\n",
    "  './members/mk_individual'}"
   ]
  },
  {
   "cell_type": "markdown",
   "metadata": {},
   "source": [
    "## Run the build pipeline\n",
    "\n",
    "This pipeline aggregates the relevant data and allows to filter for quicker development cycles.\n",
    "\n",
    "You can uncomment and modify the filter step in committees/dist/knesset.source-spec.yaml under the `build` pipeline to change the filter.\n",
    "\n",
    "The build pipeline can take a few minutes to process for the first time."
   ]
  },
  {
   "cell_type": "code",
   "execution_count": null,
   "metadata": {},
   "outputs": [],
   "source": [
    "!{'dpp run --verbose ./committees/dist/build'}"
   ]
  },
  {
   "cell_type": "markdown",
   "metadata": {},
   "source": [
    "## Load required source data to RAM"
   ]
  },
  {
   "cell_type": "code",
   "execution_count": null,
   "metadata": {},
   "outputs": [],
   "source": [
    "from datapackage_pipelines_knesset.committees.dist.meeting_context import get_meeting_context_data\n",
    "\n",
    "meeting_context_data = get_meeting_context_data()"
   ]
  },
  {
   "cell_type": "markdown",
   "metadata": {},
   "source": [
    "## Initialize the Jinja environment\n",
    "\n",
    "[Jinja](http://jinja.pocoo.org/) is used to render the html templates"
   ]
  },
  {
   "cell_type": "code",
   "execution_count": null,
   "metadata": {},
   "outputs": [],
   "source": [
    "from datapackage_pipelines_knesset.committees.dist.template_functions import get_jinja_env\n",
    "\n",
    "jinja_env = get_jinja_env('committees/dist/templates')"
   ]
  },
  {
   "cell_type": "markdown",
   "metadata": {},
   "source": [
    "## Get a committee meeting row for testing\n",
    "\n",
    "Get a single meeting row to check the data available to the template"
   ]
  },
  {
   "cell_type": "code",
   "execution_count": null,
   "metadata": {},
   "outputs": [],
   "source": [
    "from datapackage import Package\n",
    "import yaml, sys\n",
    "\n",
    "build_meetings_package = Package('data/committees/dist/build_meetings/datapackage.json')\n",
    "meeting_rows_generator = build_meetings_package.get_resource('kns_committeesession').iter(keyed=True)\n",
    "\n",
    "meeting_rows_generator = (r for r in meeting_rows_generator if r['KnessetNum'] == 20)\n",
    "\n",
    "# filter meetings which have more then 2 attended mks\n",
    "meeting_rows_generator = (r for r in meeting_rows_generator if len(r['attended_mk_individual_ids']) > 2)\n",
    "\n",
    "meeting_row = next(meeting_rows_generator)\n",
    "print(yaml.dump(meeting_row, allow_unicode=True, default_flow_style=False), file=sys.stderr)"
   ]
  },
  {
   "cell_type": "markdown",
   "metadata": {},
   "source": [
    "## Render the meeting page"
   ]
  },
  {
   "cell_type": "code",
   "execution_count": null,
   "metadata": {},
   "outputs": [],
   "source": [
    "import os, sys\n",
    "from datapackage_pipelines_knesset.committees.dist.template_functions import build_template\n",
    "from datapackage_pipelines_knesset.committees.dist.committees_common import get_meeting_path\n",
    "from datapackage_pipelines_knesset.committees.dist import meeting_context\n",
    "\n",
    "# reload the meeting_context module in case you made some changes to it.\n",
    "# Allows for quicker iterations while keeping all the source data in RAM\n",
    "from importlib import reload\n",
    "reload(meeting_context)\n",
    "\n",
    "meeting_html_file_base_path = get_meeting_path(meeting_row)\n",
    "\n",
    "build_template(jinja_env,\n",
    "               \"committeemeeting_detail.html\",\n",
    "               meeting_context.get_meeting_context(meeting_row, meeting_context_data, use_data=False),\n",
    "               meeting_html_file_base_path,\n",
    "               output_root_dir='data/committees/dist/dist')"
   ]
  },
  {
   "cell_type": "markdown",
   "metadata": {},
   "source": [
    "## Copy the static files needed for the frontend"
   ]
  },
  {
   "cell_type": "code",
   "execution_count": null,
   "metadata": {},
   "outputs": [],
   "source": [
    "!{'dpp run ./committees/dist/copy_static_files'}"
   ]
  },
  {
   "cell_type": "markdown",
   "metadata": {},
   "source": [
    "## View the rendered html\n",
    "\n",
    "To view the output, run the following from the host PC (outside of the Docker container):\n",
    "\n",
    "Change to the relevant directory on the host PC:\n",
    "\n",
    "```\n",
    "cd /opt/knesset-data-pipelines/data/committees/dist/dist\n",
    "```\n",
    "\n",
    "Run a simple HTTP server using Python:\n",
    "\n",
    "```\n",
    "python3 -m http.server\n",
    "```\n",
    "\n",
    "The following script prints the relevant urls to view the output:"
   ]
  },
  {
   "cell_type": "code",
   "execution_count": 5,
   "metadata": {},
   "outputs": [
    {
     "name": "stderr",
     "output_type": "stream",
     "text": [
      "\n",
      "-- rendered meeting - localhost url --\n",
      "\n",
      "http://localhost:8000//meetings/5/7/572279.html\n",
      "\n",
      "-- rendered meeting - production url --\n",
      "\n",
      "https://oknesset.org//meetings/5/7/572279.html\n"
     ]
    }
   ],
   "source": [
    "print('\\n-- rendered meeting - localhost url --\\n', file=sys.stderr)\n",
    "print(f'http://localhost:8000/{meeting_html_file_base_path}', file=sys.stderr)\n",
    "print('\\n-- rendered meeting - production url --\\n', file=sys.stderr)\n",
    "print(f'https://oknesset.org/{meeting_html_file_base_path}', file=sys.stderr)"
   ]
  }
 ],
 "metadata": {
  "kernelspec": {
   "display_name": "Python 3",
   "language": "python",
   "name": "python3"
  },
  "language_info": {
   "codemirror_mode": {
    "name": "ipython",
    "version": 3
   },
   "file_extension": ".py",
   "mimetype": "text/x-python",
   "name": "python",
   "nbconvert_exporter": "python",
   "pygments_lexer": "ipython3",
   "version": "3.6.6"
  }
 },
 "nbformat": 4,
 "nbformat_minor": 2
}
