{
 "cells": [
  {
   "cell_type": "markdown",
   "metadata": {},
   "source": [
    "# Render site pages\n",
    "\n",
    "[dpp](https://github.com/frictionlessdata/datapackage-pipelines) runs the knesset data pipelines periodically on our server.\n",
    "\n",
    "This notebook shows how to run pipelines that render pages for the static website at https://oknesset.org"
   ]
  },
  {
   "cell_type": "markdown",
   "metadata": {},
   "source": [
    "## Load the source data\n",
    "\n",
    "Download the source data, can take a few minutes."
   ]
  },
  {
   "cell_type": "code",
   "execution_count": null,
   "metadata": {},
   "outputs": [],
   "source": [
    "!{'cd /pipelines; KNESSET_LOAD_FROM_URL=1 dpp run --concurrency 4 '\\\n",
    "  './committees/kns_committee,'\\\n",
    "  './people/committee-meeting-attendees,'\\\n",
    "  './members/mk_individual'}"
   ]
  },
  {
   "cell_type": "markdown",
   "metadata": {},
   "source": [
    "## Run the build pipeline\n",
    "\n",
    "This pipeline aggregates the relevant data and allows to filter for quicker development cycles.\n",
    "\n",
    "You can uncomment and modify the filter step in committees/dist/knesset.source-spec.yaml under the `build` pipeline to change the filter.\n",
    "\n",
    "The build pipeline can take a few minutes to process for the first time."
   ]
  },
  {
   "cell_type": "code",
   "execution_count": 2,
   "metadata": {},
   "outputs": [
    {
     "name": "stdout",
     "output_type": "stream",
     "text": [
      "[./committees/dist/build:T_0] >>> INFO    :168911d3 RUNNING ./committees/dist/build\n",
      "[./committees/dist/build:T_0] >>> INFO    :168911d3 Collecting dependencies\n",
      "[./committees/dist/build:T_0] >>> INFO    :168911d3 Running async task\n",
      "[./committees/dist/build:T_0] >>> INFO    :168911d3 Waiting for completion\n",
      "[./committees/dist/build:T_0] >>> INFO    :168911d3 Async task starting\n",
      "[./committees/dist/build:T_0] >>> INFO    :168911d3 Searching for existing caches\n",
      "[./committees/dist/build:T_0] >>> INFO    :168911d3 Building process chain:\n",
      "[./committees/dist/build:T_0] >>> INFO    :- load_resource\n",
      "[./committees/dist/build:T_0] >>> INFO    :- knesset.load_large_csv_resource\n",
      "[./committees/dist/build:T_0] >>> INFO    :- knesset.rename_resource\n",
      "[./committees/dist/build:T_0] >>> INFO    :- load_resource\n",
      "[./committees/dist/build:T_0] >>> INFO    :- filter\n",
      "[./committees/dist/build:T_0] >>> INFO    :- build_meetings\n",
      "[./committees/dist/build:T_0] >>> INFO    :- dump.to_path\n",
      "[./committees/dist/build:T_0] >>> INFO    :- (sink)\n",
      "[./committees/dist/build:T_0] >>> INFO    :load_resource: INFO    :Processed 756 rows\n",
      "[./committees/dist/build:T_0] >>> INFO    :168911d3 DONE /usr/local/lib/python3.6/site-packages/datapackage_pipelines/specs/../lib/load_resource.py\n",
      "[./committees/dist/build:T_0] >>> INFO    :knesset.load_large_csv_resource: INFO    :Processed 1771 rows\n",
      "[./committees/dist/build:T_0] >>> INFO    :knesset.rename_resource: INFO    :Processed 1771 rows\n",
      "[./committees/dist/build:T_0] >>> INFO    :168911d3 DONE /pipelines/datapackage_pipelines_knesset/processors/rename_resource.py\n",
      "[./committees/dist/build:T_0] >>> INFO    :168911d3 DONE /pipelines/datapackage_pipelines_knesset/processors/load_large_csv_resource.py\n",
      "[./committees/dist/build:T_0] >>> INFO    :load_resource: INFO    :Processed 76185 rows\n",
      "[./committees/dist/build:T_0] >>> INFO    :filter: INFO    :Processed 1865 rows\n",
      "[./committees/dist/build:T_0] >>> INFO    :build_meetings: INFO    :Processed 1865 rows\n",
      "[./committees/dist/build:T_0] >>> INFO    :dump.to_path: INFO    :Processed 1865 rows\n",
      "[./committees/dist/build:T_0] >>> INFO    :168911d3 DONE /usr/local/lib/python3.6/site-packages/datapackage_pipelines/specs/../lib/filter.py\n",
      "[./committees/dist/build:T_0] >>> INFO    :168911d3 DONE /usr/local/lib/python3.6/site-packages/datapackage_pipelines/specs/../lib/load_resource.py\n",
      "[./committees/dist/build:T_0] >>> INFO    :168911d3 DONE /pipelines/committees/dist/build_meetings.py\n",
      "[./committees/dist/build:T_0] >>> INFO    :168911d3 DONE /usr/local/lib/python3.6/site-packages/datapackage_pipelines/specs/../lib/dump/to_path.py\n",
      "[./committees/dist/build:T_0] >>> INFO    :168911d3 DONE /usr/local/lib/python3.6/site-packages/datapackage_pipelines/manager/../lib/internal/sink.py\n",
      "[./committees/dist/build:T_0] >>> INFO    :168911d3 DONE V ./committees/dist/build {'.dpp': {'out-datapackage-url': '../../data/committees/dist/build_meetings/datapackage.json'}, 'bytes': 7557637, 'committees': 756, 'count_of_rows': 1865, 'dataset_name': '_', 'hash': 'c68616bddaacb22cb62c85cb3b4015e8', 'meetings': 94, 'mks': 1015, 'skipped committees': 0, 'skipped meetings': 0, 'skipped mks': 0}\n",
      "INFO    :RESULTS:\n",
      "INFO    :SUCCESS: ./committees/dist/build {'bytes': 7557637, 'committees': 756, 'count_of_rows': 1865, 'dataset_name': '_', 'hash': 'c68616bddaacb22cb62c85cb3b4015e8', 'meetings': 94, 'mks': 1015, 'skipped committees': 0, 'skipped meetings': 0, 'skipped mks': 0}\n"
     ]
    }
   ],
   "source": [
    "!{'cd /pipelines; dpp run --verbose ./committees/dist/build'}"
   ]
  },
  {
   "cell_type": "markdown",
   "metadata": {},
   "source": [
    "## Download some protocol files for rendering\n",
    "\n",
    "upgrade to latest dataflows library"
   ]
  },
  {
   "cell_type": "code",
   "execution_count": null,
   "metadata": {},
   "outputs": [],
   "source": [
    "!{'pip install --upgrade dataflows'}"
   ]
  },
  {
   "cell_type": "markdown",
   "metadata": {},
   "source": [
    "Restart the kernel if an upgrade was done"
   ]
  },
  {
   "cell_type": "markdown",
   "metadata": {},
   "source": [
    "Choose some session IDs to download protocol files for:"
   ]
  },
  {
   "cell_type": "code",
   "execution_count": 1,
   "metadata": {},
   "outputs": [],
   "source": [
    "session_ids = [2063122, 2063126]"
   ]
  },
  {
   "cell_type": "code",
   "execution_count": 2,
   "metadata": {},
   "outputs": [
    {
     "data": {
      "text/html": [
       "<h3>kns_committeesession</h3>"
      ],
      "text/plain": [
       "<IPython.core.display.HTML object>"
      ]
     },
     "metadata": {},
     "output_type": "display_data"
    },
    {
     "data": {
      "text/html": [
       "<table>\n",
       "<thead>\n",
       "<tr><th style=\"text-align: right;\">  #</th><th style=\"text-align: right;\">        CommitteeSessionID\n",
       "(integer)</th><th style=\"text-align: right;\">   Number\n",
       "(integer)</th><th style=\"text-align: right;\">   KnessetNum\n",
       "(integer)</th><th style=\"text-align: right;\">    TypeID\n",
       "(integer)</th><th>TypeDesc\n",
       "(string)      </th><th style=\"text-align: right;\">     CommitteeID\n",
       "(integer)</th><th>Location\n",
       "(string)                                                  </th><th>SessionUrl\n",
       "(string)                                                                                                   </th><th>BroadcastUrl\n",
       "(string)     </th><th>StartDate\n",
       "(datetime)                    </th><th>FinishDate\n",
       "(datetime)                    </th><th>Note\n",
       "(string)                                                                                                         </th><th>LastUpdatedDate\n",
       "(datetime)                    </th><th>download_crc32c\n",
       "(string)         </th><th>download_filename\n",
       "(string)                        </th><th style=\"text-align: right;\">      download_filesize\n",
       "(integer)</th><th>parts_crc32c\n",
       "(string)         </th><th style=\"text-align: right;\">      parts_filesize\n",
       "(integer)</th><th>parts_parsed_filename\n",
       "(string)                      </th><th>text_crc32c\n",
       "(string)         </th><th style=\"text-align: right;\">      text_filesize\n",
       "(integer)</th><th>text_parsed_filename\n",
       "(string)                      </th><th>topics\n",
       "(array)     </th><th>committee_name\n",
       "(string)                      </th></tr>\n",
       "</thead>\n",
       "<tbody>\n",
       "<tr><td style=\"text-align: right;\">  1</td><td style=\"text-align: right;\">2063122</td><td style=\"text-align: right;\">29</td><td style=\"text-align: right;\">15</td><td style=\"text-align: right;\">161</td><td>פתוחה</td><td style=\"text-align: right;\">2045</td><td>חדר הוועדה, באגף הוועדות (קדמה), קומה 3, חדר 3710</td><td>http://main.knesset.gov.il/Activity/committees/Pages/AllCommitteesAgenda.aspx?Tab=3&ItemID=2063122</td><td>None</td><td>2000-07-05 00:00:00</td><td>2000-07-05 00:00:00</td><td>פניות ציבור בנושא איכות והתאמה לתקנים של שירותי הסעדה בבתי-הספר, פעוטונים, קייטנות ומוסדות ציבור        </td><td>2018-10-10 11:03:06</td><td>UCgupg==</td><td>files/23/4/3/434231.DOC</td><td style=\"text-align: right;\">47154</td><td>/4kpmQ==</td><td style=\"text-align: right;\">85239</td><td>files/2/0/2063122.csv</td><td>pybkkw==</td><td style=\"text-align: right;\">85134</td><td>files/2/0/2063122.txt</td><td>None</td><td>המיוחדת לפניות הציבור</td></tr>\n",
       "<tr><td style=\"text-align: right;\">  2</td><td style=\"text-align: right;\">2063126</td><td style=\"text-align: right;\">33</td><td style=\"text-align: right;\">15</td><td style=\"text-align: right;\">161</td><td>פתוחה</td><td style=\"text-align: right;\">2045</td><td>חדר הוועדה, באגף הוועדות (קדמה), קומה 3, חדר 3710</td><td>http://main.knesset.gov.il/Activity/committees/Pages/AllCommitteesAgenda.aspx?Tab=3&ItemID=2063126</td><td>None</td><td>2000-10-30 00:00:00</td><td>2000-10-30 00:00:00</td><td>פניות של דיירי רחוב מאור הגולה בשכונת שפירא בתל-אביב שביתם נהרס והם ממשיכים לשלם משכנתא ולא מקבלים כ ...</td><td>2018-10-10 11:03:06</td><td>ryN9+g==</td><td>files/23/4/3/434233.DOC</td><td style=\"text-align: right;\">36724</td><td>qiGAHw==</td><td style=\"text-align: right;\">56525</td><td>files/2/0/2063126.csv</td><td>+Gw5Mw==</td><td style=\"text-align: right;\">56419</td><td>files/2/0/2063126.txt</td><td>None</td><td>המיוחדת לפניות הציבור</td></tr>\n",
       "</tbody>\n",
       "</table>"
      ],
      "text/plain": [
       "<IPython.core.display.HTML object>"
      ]
     },
     "metadata": {},
     "output_type": "display_data"
    }
   ],
   "source": [
    "from dataflows import Flow, load, printer, filter_rows\n",
    "\n",
    "sessions_data = Flow(\n",
    "    load('/pipelines/data/committees/kns_committeesession/datapackage.json'),\n",
    "    filter_rows(lambda row: row['CommitteeSessionID'] in session_ids),\n",
    "    printer(tablefmt='html')\n",
    ").results()"
   ]
  },
  {
   "cell_type": "code",
   "execution_count": 7,
   "metadata": {},
   "outputs": [
    {
     "name": "stderr",
     "output_type": "stream",
     "text": [
      "curl -s -o /pipelines/data/committees/meeting_protocols_text/files/2/0/2063122.txt https://production.oknesset.org/pipelines/data/committees/meeting_protocols_text/files/2/0/2063122.txt\n",
      "curl -s -o /pipelines/data/committees/meeting_protocols_parts/files/2/0/2063122.csv https://production.oknesset.org/pipelines/data/committees/meeting_protocols_parts/files/2/0/2063122.csv\n",
      "curl -s -o /pipelines/data/committees/meeting_protocols_text/files/2/0/2063126.txt https://production.oknesset.org/pipelines/data/committees/meeting_protocols_text/files/2/0/2063126.txt\n",
      "curl -s -o /pipelines/data/committees/meeting_protocols_parts/files/2/0/2063126.csv https://production.oknesset.org/pipelines/data/committees/meeting_protocols_parts/files/2/0/2063126.csv\n"
     ]
    }
   ],
   "source": [
    "import os\n",
    "import subprocess\n",
    "import sys\n",
    "\n",
    "for session in sessions_data[0][0]:\n",
    "    for attr in ['text_parsed_filename', 'parts_parsed_filename']:\n",
    "        pathpart = 'meeting_protocols_text' if attr == 'text_parsed_filename' else 'meeting_protocols_parts'\n",
    "        url = 'https://production.oknesset.org/pipelines/data/committees/{}/{}'.format(pathpart, session[attr])\n",
    "        filename = '/pipelines/data/committees/{}/{}'.format(pathpart, session[attr])\n",
    "        os.makedirs(os.path.dirname(filename), exist_ok=True)\n",
    "        cmd = 'curl -s -o {} {}'.format(filename, url)\n",
    "        print(cmd, file=sys.stderr)\n",
    "        subprocess.check_call(cmd, shell=True)"
   ]
  },
  {
   "cell_type": "markdown",
   "metadata": {},
   "source": [
    "## Delete dist hash files"
   ]
  },
  {
   "cell_type": "code",
   "execution_count": 8,
   "metadata": {},
   "outputs": [],
   "source": [
    "%%bash\n",
    "find /pipelines/data/committees/dist -type f -name '*.hash' -delete"
   ]
  },
  {
   "cell_type": "markdown",
   "metadata": {},
   "source": [
    "## Render pages\n",
    "\n",
    "Should run the render pipelines in the following order:\n",
    "\n",
    "## Meetings:"
   ]
  },
  {
   "cell_type": "code",
   "execution_count": 9,
   "metadata": {},
   "outputs": [
    {
     "name": "stdout",
     "output_type": "stream",
     "text": [
      "\u001b[1A\n",
      "\u001b[2K./committees/dist/render_meetings: \u001b[31mWAITING FOR OUTPUT\u001b[0m\n",
      "\u001b[2A\n",
      "\u001b[2K./committees/dist/render_meetings: \u001b[33mRUNNING, processed 94 rows\u001b[0m\n",
      "\u001b[2A\n",
      "\u001b[2K./committees/dist/render_meetings: \u001b[32mSUCCESS, processed 94 rows\u001b[0m\n",
      "INFO    :RESULTS:\n",
      "INFO    :SUCCESS: ./committees/dist/render_meetings {'bytes': 1742, 'count_of_rows': 94, 'dataset_name': '_', 'failed meetings': 0, 'hash': 'fb41c59fff6c4eced438aa6e29556b24', 'kns_committees': 756, 'meetings': 94, 'mk_individuals': 1015}\n"
     ]
    }
   ],
   "source": [
    "!{'cd /pipelines; dpp run ./committees/dist/render_meetings'}"
   ]
  },
  {
   "cell_type": "markdown",
   "metadata": {},
   "source": [
    "#### Rendered meetings stats"
   ]
  },
  {
   "cell_type": "code",
   "execution_count": 10,
   "metadata": {},
   "outputs": [
    {
     "data": {
      "text/html": [
       "<h3>meetings_stats</h3>"
      ],
      "text/plain": [
       "<IPython.core.display.HTML object>"
      ]
     },
     "metadata": {},
     "output_type": "display_data"
    },
    {
     "data": {
      "text/html": [
       "<table>\n",
       "<thead>\n",
       "<tr><th style=\"text-align: right;\">  #</th><th style=\"text-align: right;\">        CommitteeSessionID\n",
       "(integer)</th><th style=\"text-align: right;\">    num_speech_parts\n",
       "(integer)</th><th>hash\n",
       "(string)     </th><th>rendered_html\n",
       "(string)                                                               </th><th>rendered_json\n",
       "(string)                                                               </th></tr>\n",
       "</thead>\n",
       "<tbody>\n",
       "<tr><td style=\"text-align: right;\">  1</td><td style=\"text-align: right;\">2063122</td><td style=\"text-align: right;\">186</td><td>None</td><td>/pipelines/data/committees/dist/dist/meetings/2/0/2063122.html</td><td>/pipelines/data/committees/dist/dist/meetings/2/0/2063122.json</td></tr>\n",
       "<tr><td style=\"text-align: right;\">  2</td><td style=\"text-align: right;\">2063126</td><td style=\"text-align: right;\">209</td><td>None</td><td>/pipelines/data/committees/dist/dist/meetings/2/0/2063126.html</td><td>/pipelines/data/committees/dist/dist/meetings/2/0/2063126.json</td></tr>\n",
       "</tbody>\n",
       "</table>"
      ],
      "text/plain": [
       "<IPython.core.display.HTML object>"
      ]
     },
     "metadata": {},
     "output_type": "display_data"
    }
   ],
   "source": [
    "from dataflows import Flow, load, printer, filter_rows, add_field\n",
    "\n",
    "def add_filenames():\n",
    "    \n",
    "    def _add_filenames(row):\n",
    "        for ext in ['html', 'json']:\n",
    "            row['rendered_'+ext] = '/pipelines/data/committees/dist/dist/meetings/{}/{}/{}.{}'.format(\n",
    "                str(row['CommitteeSessionID'])[0], str(row['CommitteeSessionID'])[1], str(row['CommitteeSessionID']), ext)\n",
    "    \n",
    "    return Flow(\n",
    "        add_field('rendered_html', 'string'),\n",
    "        add_field('rendered_json', 'string'),\n",
    "        _add_filenames\n",
    "    )\n",
    "\n",
    "rendered_meetings = Flow(\n",
    "    load('/pipelines/data/committees/dist/rendered_meetings_stats/datapackage.json'), \n",
    "    add_filenames(),\n",
    "    filter_rows(lambda row: row['CommitteeSessionID'] in session_ids),\n",
    "    printer(tablefmt='html')\n",
    ").results()[0][0]"
   ]
  },
  {
   "cell_type": "markdown",
   "metadata": {},
   "source": [
    "## Committees and homepage"
   ]
  },
  {
   "cell_type": "code",
   "execution_count": 13,
   "metadata": {},
   "outputs": [
    {
     "name": "stdout",
     "output_type": "stream",
     "text": [
      "\u001b[1A\n",
      "\u001b[2K./committees/dist/render_committees: \u001b[31mWAITING FOR OUTPUT\u001b[0m\n",
      "\u001b[2A\n",
      "\u001b[2K./committees/dist/render_committees: \u001b[31mWAITING FOR OUTPUT\u001b[0m\n",
      "\u001b[2A\n",
      "\u001b[2K./committees/dist/render_committees: \u001b[32mSUCCESS, processed 0 rows\u001b[0m\n",
      "INFO    :RESULTS:\n",
      "INFO    :SUCCESS: ./committees/dist/render_committees {'all chairpersons': 756, 'all committees': 756, 'all meeting stats': 94, 'all meetings': 94, 'all members': 7446, 'all mks': 1015, 'all others': 2, 'all replacements': 244, 'all watchers': 2, 'built index': 1, 'built_committees': 756, 'built_knesset_nums': 21, 'failed_committees': 0, 'failed_knesset_nums': 0}\n"
     ]
    }
   ],
   "source": [
    "!{'cd /pipelines; dpp run ./committees/dist/render_committees'}"
   ]
  },
  {
   "cell_type": "markdown",
   "metadata": {},
   "source": [
    "## Members / Factions"
   ]
  },
  {
   "cell_type": "code",
   "execution_count": 12,
   "metadata": {},
   "outputs": [
    {
     "name": "stdout",
     "output_type": "stream",
     "text": [
      "\u001b[1A\n",
      "\u001b[2K./committees/dist/build_positions: \u001b[31mWAITING FOR OUTPUT\u001b[0m\n",
      "\u001b[2A\n",
      "\u001b[2K./committees/dist/build_positions: \u001b[33mRUNNING, processed 100 rows\u001b[0m\n",
      "\u001b[2A\n",
      "\u001b[2K./committees/dist/build_positions: \u001b[33mRUNNING, processed 200 rows\u001b[0m\n",
      "\u001b[2A\n",
      "\u001b[2K./committees/dist/build_positions: \u001b[33mRUNNING, processed 300 rows\u001b[0m\n",
      "\u001b[2A\n",
      "\u001b[2K./committees/dist/build_positions: \u001b[33mRUNNING, processed 400 rows\u001b[0m\n",
      "\u001b[2A\n",
      "\u001b[2K./committees/dist/build_positions: \u001b[33mRUNNING, processed 500 rows\u001b[0m\n",
      "\u001b[2A\n",
      "\u001b[2K./committees/dist/build_positions: \u001b[33mRUNNING, processed 600 rows\u001b[0m\n",
      "\u001b[2A\n",
      "\u001b[2K./committees/dist/build_positions: \u001b[33mRUNNING, processed 700 rows\u001b[0m\n",
      "\u001b[2A\n",
      "\u001b[2K./committees/dist/build_positions: \u001b[33mRUNNING, processed 800 rows\u001b[0m\n",
      "\u001b[2A\n",
      "\u001b[2K./committees/dist/build_positions: \u001b[33mRUNNING, processed 900 rows\u001b[0m\n",
      "\u001b[2A\n",
      "\u001b[2K./committees/dist/build_positions: \u001b[33mRUNNING, processed 1000 rows\u001b[0m\n",
      "\u001b[2A\n",
      "\u001b[2K./committees/dist/build_positions: \u001b[33mRUNNING, processed 1100 rows\u001b[0m\n",
      "\u001b[2A\n",
      "\u001b[2K./committees/dist/build_positions: \u001b[33mRUNNING, processed 1200 rows\u001b[0m\n",
      "\u001b[2A\n",
      "\u001b[2K./committees/dist/build_positions: \u001b[33mRUNNING, processed 1300 rows\u001b[0m\n",
      "\u001b[2A\n",
      "\u001b[2K./committees/dist/build_positions: \u001b[33mRUNNING, processed 1400 rows\u001b[0m\n",
      "\u001b[2A\n",
      "\u001b[2K./committees/dist/build_positions: \u001b[33mRUNNING, processed 1500 rows\u001b[0m\n",
      "\u001b[2A\n",
      "\u001b[2K./committees/dist/build_positions: \u001b[33mRUNNING, processed 1600 rows\u001b[0m\n",
      "\u001b[2A\n",
      "\u001b[2K./committees/dist/build_positions: \u001b[33mRUNNING, processed 1700 rows\u001b[0m\n",
      "\u001b[2A\n",
      "\u001b[2K./committees/dist/build_positions: \u001b[33mRUNNING, processed 1800 rows\u001b[0m\n",
      "\u001b[2A\n",
      "\u001b[2K./committees/dist/build_positions: \u001b[33mRUNNING, processed 1900 rows\u001b[0m\n",
      "\u001b[2A\n",
      "\u001b[2K./committees/dist/build_positions: \u001b[33mRUNNING, processed 2000 rows\u001b[0m\n",
      "\u001b[2A\n",
      "\u001b[2K./committees/dist/build_positions: \u001b[33mRUNNING, processed 2100 rows\u001b[0m\n",
      "\u001b[2A\n",
      "\u001b[2K./committees/dist/build_positions: \u001b[33mRUNNING, processed 2144 rows\u001b[0m\n",
      "\u001b[2A\n",
      "\u001b[2K./committees/dist/build_positions: \u001b[32mSUCCESS, processed 2144 rows\u001b[0m\n",
      "\u001b[2A\n",
      "\u001b[2K./committees/dist/build_positions: \u001b[32mSUCCESS, processed 2144 rows\u001b[0m\n",
      "\u001b[2K./committees/dist/create_members: \u001b[31mWAITING FOR OUTPUT\u001b[0m\n",
      "\u001b[3A\n",
      "\u001b[2K./committees/dist/build_positions: \u001b[32mSUCCESS, processed 2144 rows\u001b[0m\n",
      "\u001b[2K./committees/dist/create_members: \u001b[31mWAITING FOR OUTPUT\u001b[0m\n",
      "\u001b[3A\n",
      "\u001b[2K./committees/dist/build_positions: \u001b[32mSUCCESS, processed 2144 rows\u001b[0m\n",
      "\u001b[2K./committees/dist/create_members: \u001b[32mSUCCESS, processed 0 rows\u001b[0m\n",
      "\u001b[3A\n",
      "\u001b[2K./committees/dist/build_positions: \u001b[32mSUCCESS, processed 2144 rows\u001b[0m\n",
      "\u001b[2K./committees/dist/create_members: \u001b[32mSUCCESS, processed 0 rows\u001b[0m\n",
      "\u001b[2K./committees/dist/create_factions: \u001b[31mWAITING FOR OUTPUT\u001b[0m\n",
      "\u001b[4A\n",
      "\u001b[2K./committees/dist/build_positions: \u001b[32mSUCCESS, processed 2144 rows\u001b[0m\n",
      "\u001b[2K./committees/dist/create_members: \u001b[32mSUCCESS, processed 0 rows\u001b[0m\n",
      "\u001b[2K./committees/dist/create_factions: \u001b[31mWAITING FOR OUTPUT\u001b[0m\n",
      "\u001b[4A\n",
      "\u001b[2K./committees/dist/build_positions: \u001b[32mSUCCESS, processed 2144 rows\u001b[0m\n",
      "\u001b[2K./committees/dist/create_members: \u001b[32mSUCCESS, processed 0 rows\u001b[0m\n",
      "\u001b[2K./committees/dist/create_factions: \u001b[32mSUCCESS, processed 0 rows\u001b[0m\n",
      "INFO    :RESULTS:\n",
      "INFO    :SUCCESS: ./committees/dist/build_positions {'bytes': 282211, 'count_of_rows': 2144, 'dataset_name': 'positions_aggr', 'hash': '0c318cd33a56a9fbb49f96172a462df0'}\n",
      "INFO    :SUCCESS: ./committees/dist/create_members {}\n",
      "INFO    :SUCCESS: ./committees/dist/create_factions {}\n"
     ]
    }
   ],
   "source": [
    "!{'cd /pipelines; dpp run ./committees/dist/create_members,./committees/dist/build_positions,./committees/dist/create_factions'}"
   ]
  },
  {
   "cell_type": "markdown",
   "metadata": {},
   "source": [
    "## Showing the rendered pages\n",
    "\n",
    "To serve the site, locate the correspondoing local directory for /pipelines/data/committees/dist/dist and run:\n",
    "    \n",
    "`python -m http.server 8000`\n",
    "\n",
    "Pages should be available at http://localhost:8000/"
   ]
  }
 ],
 "metadata": {
  "kernelspec": {
   "display_name": "Python 3",
   "language": "python",
   "name": "python3"
  },
  "language_info": {
   "codemirror_mode": {
    "name": "ipython",
    "version": 3
   },
   "file_extension": ".py",
   "mimetype": "text/x-python",
   "name": "python",
   "nbconvert_exporter": "python",
   "pygments_lexer": "ipython3",
   "version": "3.6.6"
  }
 },
 "nbformat": 4,
 "nbformat_minor": 2
}
