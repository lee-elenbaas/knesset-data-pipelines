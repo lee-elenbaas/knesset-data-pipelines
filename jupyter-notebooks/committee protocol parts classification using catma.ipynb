{
 "cells": [
  {
   "cell_type": "markdown",
   "metadata": {},
   "source": [
    "Define functions"
   ]
  },
  {
   "cell_type": "code",
   "execution_count": 56,
   "metadata": {},
   "outputs": [],
   "source": [
    "import csv\n",
    "import xml.etree.ElementTree as ET\n",
    "from os import listdir\n",
    "import re\n",
    "import subprocess\n",
    "from tempfile import mkdtemp\n",
    "from glob import glob\n",
    "\n",
    "target = 'target'\n",
    "ana_name = 'ana'\n",
    "TALKER_SEP = '_TALKER_'\n",
    "\n",
    "def get_talker(all_talkers,indices, b):\n",
    "    for i in range(len(indices)):\n",
    "        if indices[i] > b:\n",
    "            return all_talkers[i-1].strip()\n",
    "\n",
    "def get_annotations_text(root, text, as_list=False):\n",
    "    texts = {}\n",
    "    talkers = {}\n",
    "    all_talkers = re.findall('([א-ת])+ [א-ת]+:\\n', text)\n",
    "\n",
    "    all_talkers = re.findall('\\n.*:\\n', text)\n",
    "    valid_talkers = []\n",
    "    for talker in all_talkers:\n",
    "        if len(talker) > 2 and len(talker) <= 40:\n",
    "            valid_talkers.append(talker)\n",
    "    all_talkers = valid_talkers\n",
    "    talkers_indices=[]\n",
    "    i = 0\n",
    "    for name in all_talkers:\n",
    "        i = text.find(name, i)\n",
    "        talkers_indices.append(i)\n",
    "\n",
    "    for n in root.iter('{http://www.tei-c.org/ns/1.0}seg'):\n",
    "        ana = ''\n",
    "        for a in n.iter():\n",
    "            attr = a.attrib\n",
    "            #print(attr)\n",
    "            if ana_name in attr:\n",
    "                ana = attr[ana_name][1:]\n",
    "              #  print(\"ana=\"+ana)\n",
    "            if target in attr:\n",
    "                b,e = (attr[target].split('=')[1]).split(\",\")\n",
    "                #print(b+\",\" + e)\n",
    "                a = attr[target].split('#')[0]\n",
    "                t = text[int(b):int(e) + 1]\n",
    "                #print(\"b,e %s,%s \" %(b,e))\n",
    "                if len(t) >= 1:\n",
    "                    talker = get_talker(all_talkers, talkers_indices, int(b))\n",
    "                    if ana in texts:\n",
    "                        #print(\"a=\"+a)\n",
    "                        #print(\"t=\"+t)\n",
    "                        texts[ana].append(t)\n",
    "\n",
    "                       #print(\"appending \" + t + \" to \" + ana)\n",
    "                    else:\n",
    "                        #print(\"inserting \" + t + \" to \" + ana + \"...\")\n",
    "                        texts[ana]=[t]\n",
    "                        talkers[ana]  = talker\n",
    "\n",
    "    cats = {}\n",
    "    for aa in root.iter('{http://www.tei-c.org/ns/1.0}fsDecl'):\n",
    "        for a in aa.iter('{http://www.tei-c.org/ns/1.0}fsDecl'):\n",
    "           # print (a.tag)\n",
    "            att = a.attrib\n",
    "            for x in a.iter():\n",
    "                if x.tag == '{http://www.tei-c.org/ns/1.0}fsDescr' and 'type' in att:\n",
    "                    name = x.text\n",
    "                    t = att['type']\n",
    "                    if not t in cats:\n",
    "                        cats[t] = name\n",
    "\n",
    "\n",
    "    annotaions_text = {}\n",
    "    for c in cats:\n",
    "        if as_list:\n",
    "            annotaions_text[cats[c]] = []\n",
    "        else:\n",
    "            annotaions_text[cats[c]] = ''\n",
    "\n",
    "    for n in root.iter('{http://www.tei-c.org/ns/1.0}fs'):\n",
    "         id =  n.attrib['{http://www.w3.org/XML/1998/namespace}id']\n",
    "         if 'type' in n.attrib:\n",
    "           t=n.attrib['type']\n",
    "           #print('type='+t)\n",
    "\n",
    "           if id in texts:\n",
    "               anno_cat = cats[t]\n",
    "               anno_text = ''.join(texts[id])\n",
    "               anno_talker = \"?\"\n",
    "               if talkers[id] is not None:\n",
    "                   anno_talker = talkers[id].strip()\n",
    "               if as_list:\n",
    "                    annotaions_text[anno_cat].append((anno_talker,anno_text))\n",
    "               else:\n",
    "                    annotaions_text[anno_cat] = annotaions_text[anno_cat] + \"\\t\"   + anno_talker + TALKER_SEP + anno_text\n",
    "    return annotaions_text\n",
    "\n",
    "def get_annotations(annotation_path, as_list=False, with_text=False):\n",
    "    text_filenames = glob('{}/*.txt'.format(annotation_path))\n",
    "    assert len(text_filenames) == 1\n",
    "    text_filename = text_filenames[0]\n",
    "    xml_filenames = glob('{}/*/*.xml'.format(annotation_path))\n",
    "    assert len(xml_filenames) == 1\n",
    "    xml_filename = xml_filenames[0]\n",
    "    with open(text_filename,'r',encoding='utf-8') as file:\n",
    "        text = file.read()\n",
    "        text = text.replace(\"\\n\",'\\n ')\n",
    "    tree = ET.parse(xml_filename)\n",
    "    root = tree.getroot()\n",
    "    annotations = get_annotations_text(root, text, as_list=as_list)\n",
    "    if with_text:\n",
    "        return annotations, text\n",
    "    else:\n",
    "        return annotations"
   ]
  },
  {
   "cell_type": "markdown",
   "metadata": {},
   "source": [
    "Catma is used by Bar Ilan University (BIU) to do manual classification / tagging of protocol parts\n",
    "\n",
    "Original protocol files are uploaded Catma which parses them into text, which BIU manually tags according to certain predefined tags (related to law)\n",
    "\n",
    "Need to export the corpus from Catma and provide the .tar.gz file as input for this notebook"
   ]
  },
  {
   "cell_type": "code",
   "execution_count": 48,
   "metadata": {},
   "outputs": [],
   "source": [
    "corpus_filename = '/pipelines/data/catma/ההסדרים_אקראיים1909171124.tar.gz'"
   ]
  },
  {
   "cell_type": "code",
   "execution_count": 49,
   "metadata": {},
   "outputs": [
    {
     "name": "stdout",
     "output_type": "stream",
     "text": [
      "0 /tmp/tmpi5w8l9e9/ההסדרים_אקראיים/פרוטוקול_1_2009-06-17._parts.txt\n",
      "1 /tmp/tmpi5w8l9e9/ההסדרים_אקראיים/פרוטוקול_מס_10.txt\n",
      "2 /tmp/tmpi5w8l9e9/ההסדרים_אקראיים/פרוטוקול_52_26.12.07.txt\n",
      "3 /tmp/tmpi5w8l9e9/ההסדרים_אקראיים/פרוטוקול_מס'_35.txt\n",
      "4 /tmp/tmpi5w8l9e9/ההסדרים_אקראיים/parts_פרוטוקול_37_2009-07-08-01.txt\n",
      "5 /tmp/tmpi5w8l9e9/ההסדרים_אקראיים/פרוטוקול_21_2009-07-05-06.txt\n"
     ]
    }
   ],
   "source": [
    "corpus_dir = mkdtemp()\n",
    "subprocess.check_call('tar -xzvf \"{}\" -C \"{}\"'.format(corpus_filename, corpus_dir), shell=True)\n",
    "annotation_paths = glob('{}/*/*'.format(corpus_dir))\n",
    "for i,p in enumerate(annotation_paths): print(i,p)"
   ]
  },
  {
   "cell_type": "markdown",
   "metadata": {},
   "source": [
    "Choose an annotation path to get annotations from"
   ]
  },
  {
   "cell_type": "code",
   "execution_count": 50,
   "metadata": {},
   "outputs": [
    {
     "data": {
      "text/plain": [
       "'/tmp/tmpi5w8l9e9/ההסדרים_אקראיים/פרוטוקול_1_2009-06-17._parts.txt'"
      ]
     },
     "execution_count": 50,
     "metadata": {},
     "output_type": "execute_result"
    }
   ],
   "source": [
    "annotation_path = annotation_paths[0]\n",
    "annotation_path"
   ]
  },
  {
   "cell_type": "code",
   "execution_count": 51,
   "metadata": {},
   "outputs": [
    {
     "data": {
      "text/plain": [
       "{'Judicial decision': [],\n",
       " 'constitutional turns': [('היו\"ר זאב אלקין:',\n",
       "   'ובתיאום עם אנשי האופוזיציה קבענו את לוח הזמנים שיאפשר לכולם את זכות הביטוי. '),\n",
       "  ('נסים זאב:',\n",
       "   'היא מוותרת על זכות ההדיבור, וזאת זכותה, אנחנו לא יכולים לכפות עליה גם לדבר. בדמוקרטיה, כמו שיש חופש דיבור, גם אי-אפשר לכפות עעל אדם לדבר בכוח. ')],\n",
       " 'Doubt': [],\n",
       " 'Anticipating Judicial Review': []}"
      ]
     },
     "execution_count": 51,
     "metadata": {},
     "output_type": "execute_result"
    }
   ],
   "source": [
    "get_annotations(annotation_path, as_list=True)"
   ]
  },
  {
   "cell_type": "markdown",
   "metadata": {},
   "source": [
    "Get annotation statistics"
   ]
  },
  {
   "cell_type": "code",
   "execution_count": 68,
   "metadata": {},
   "outputs": [
    {
     "data": {
      "text/html": [
       "<h3>res_1</h3>"
      ],
      "text/plain": [
       "<IPython.core.display.HTML object>"
      ]
     },
     "metadata": {},
     "output_type": "display_data"
    },
    {
     "data": {
      "text/html": [
       "<table>\n",
       "<thead>\n",
       "<tr><th style=\"text-align: right;\">  #</th><th style=\"text-align: right;\">     year\n",
       "(string)</th><th>dirname\n",
       "(string)                                                    </th><th style=\"text-align: right;\">  Judicial decision\n",
       "(integer)</th><th style=\"text-align: right;\">  constitutional turns\n",
       "(integer)</th><th style=\"text-align: right;\">  Doubt\n",
       "(integer)</th><th style=\"text-align: right;\">  Anticipating Judicial Review\n",
       "(integer)</th></tr>\n",
       "</thead>\n",
       "<tbody>\n",
       "<tr><td style=\"text-align: right;\">  1</td><td style=\"text-align: right;\">2009</td><td>ההסדרים_אקראיים/פרוטוקול_1_2009-06-17._parts.txt   </td><td style=\"text-align: right;\">0</td><td style=\"text-align: right;\">2</td><td style=\"text-align: right;\">0</td><td style=\"text-align: right;\">0</td></tr>\n",
       "<tr><td style=\"text-align: right;\">  2</td><td style=\"text-align: right;\">2015</td><td>ההסדרים_אקראיים/פרוטוקול_מס_10.txt                 </td><td style=\"text-align: right;\">0</td><td style=\"text-align: right;\">0</td><td style=\"text-align: right;\">0</td><td style=\"text-align: right;\">0</td></tr>\n",
       "<tr><td style=\"text-align: right;\">  3</td><td style=\"text-align: right;\">2007</td><td>ההסדרים_אקראיים/פרוטוקול_52_26.12.07.txt           </td><td style=\"text-align: right;\">0</td><td style=\"text-align: right;\">0</td><td style=\"text-align: right;\">0</td><td style=\"text-align: right;\">1</td></tr>\n",
       "<tr><td style=\"text-align: right;\">  4</td><td style=\"text-align: right;\">2013</td><td>ההסדרים_אקראיים/פרוטוקול_מס'_35.txt                </td><td style=\"text-align: right;\">0</td><td style=\"text-align: right;\">0</td><td style=\"text-align: right;\">0</td><td style=\"text-align: right;\">0</td></tr>\n",
       "<tr><td style=\"text-align: right;\">  5</td><td style=\"text-align: right;\">2009</td><td>ההסדרים_אקראיים/parts_פרוטוקול_37_2009-07-08-01.txt</td><td style=\"text-align: right;\">0</td><td style=\"text-align: right;\">0</td><td style=\"text-align: right;\">0</td><td style=\"text-align: right;\">0</td></tr>\n",
       "<tr><td style=\"text-align: right;\">  6</td><td style=\"text-align: right;\">2009</td><td>ההסדרים_אקראיים/פרוטוקול_21_2009-07-05-06.txt      </td><td style=\"text-align: right;\">0</td><td style=\"text-align: right;\">0</td><td style=\"text-align: right;\">0</td><td style=\"text-align: right;\">0</td></tr>\n",
       "</tbody>\n",
       "</table>"
      ],
      "text/plain": [
       "<IPython.core.display.HTML object>"
      ]
     },
     "metadata": {},
     "output_type": "display_data"
    },
    {
     "data": {
      "text/html": [
       "<h3>res_2</h3>"
      ],
      "text/plain": [
       "<IPython.core.display.HTML object>"
      ]
     },
     "metadata": {},
     "output_type": "display_data"
    },
    {
     "data": {
      "text/html": [
       "<table>\n",
       "<thead>\n",
       "<tr><th style=\"text-align: right;\">  #</th><th style=\"text-align: right;\">     year\n",
       "(string)</th><th style=\"text-align: right;\">  Judicial decision\n",
       "(integer)</th><th style=\"text-align: right;\">  constitutional turns\n",
       "(integer)</th><th style=\"text-align: right;\">  Doubt\n",
       "(integer)</th><th style=\"text-align: right;\">  Anticipating Judicial Review\n",
       "(integer)</th></tr>\n",
       "</thead>\n",
       "<tbody>\n",
       "<tr><td style=\"text-align: right;\">  1</td><td style=\"text-align: right;\">2009</td><td style=\"text-align: right;\">0</td><td style=\"text-align: right;\">2</td><td style=\"text-align: right;\">0</td><td style=\"text-align: right;\">0</td></tr>\n",
       "<tr><td style=\"text-align: right;\">  2</td><td style=\"text-align: right;\">2015</td><td style=\"text-align: right;\">0</td><td style=\"text-align: right;\">0</td><td style=\"text-align: right;\">0</td><td style=\"text-align: right;\">0</td></tr>\n",
       "<tr><td style=\"text-align: right;\">  3</td><td style=\"text-align: right;\">2007</td><td style=\"text-align: right;\">0</td><td style=\"text-align: right;\">0</td><td style=\"text-align: right;\">0</td><td style=\"text-align: right;\">1</td></tr>\n",
       "<tr><td style=\"text-align: right;\">  4</td><td style=\"text-align: right;\">2013</td><td style=\"text-align: right;\">0</td><td style=\"text-align: right;\">0</td><td style=\"text-align: right;\">0</td><td style=\"text-align: right;\">0</td></tr>\n",
       "</tbody>\n",
       "</table>"
      ],
      "text/plain": [
       "<IPython.core.display.HTML object>"
      ]
     },
     "metadata": {},
     "output_type": "display_data"
    },
    {
     "data": {
      "text/plain": [
       "(<datapackage.package.Package at 0x7f0636d9cef0>, {})"
      ]
     },
     "execution_count": 68,
     "metadata": {},
     "output_type": "execute_result"
    }
   ],
   "source": [
    "from dataflows import Flow, printer\n",
    "\n",
    "known_categories = [\n",
    "    'Judicial decision',\n",
    "    'constitutional turns',\n",
    "    'Doubt',\n",
    "    'Anticipating Judicial Review'\n",
    "]\n",
    "\n",
    "def get_year(text):\n",
    "    return re.findall('[2][0][0-9][0-9]', text)[0]\n",
    "\n",
    "yearly_counts = {}\n",
    "\n",
    "def get_annotation_file_stats(annotation_paths):\n",
    "    for annotation_path in annotation_paths:\n",
    "        annotations, text = get_annotations(annotation_path, as_list=True, with_text=True)\n",
    "        year = get_year(text)\n",
    "        if not yearly_counts.get(year):\n",
    "            yearly_counts[year] = {c: 0 for c in known_categories}\n",
    "        row = {\n",
    "            'year': year,\n",
    "            'dirname': annotation_path.replace(corpus_dir, '').strip('/'),\n",
    "            **{\n",
    "                c: 0 for c in known_categories\n",
    "            }\n",
    "        }\n",
    "        for category, category_annotations in annotations.items():\n",
    "            assert category in known_categories\n",
    "            row[category] = len(category_annotations)\n",
    "            yearly_counts[year][category] += len(category_annotations)\n",
    "        yield row\n",
    "\n",
    "def get_yearly_counts():\n",
    "    for year, counts in yearly_counts.items():\n",
    "        yield {\n",
    "            'year': year,\n",
    "            **counts\n",
    "        }\n",
    "        \n",
    "Flow(\n",
    "    get_annotation_file_stats(annotation_paths),\n",
    "    get_yearly_counts(),\n",
    "    printer(tablefmt='html')\n",
    ").process()"
   ]
  }
 ],
 "metadata": {
  "kernelspec": {
   "display_name": "Python 3",
   "language": "python",
   "name": "python3"
  },
  "language_info": {
   "codemirror_mode": {
    "name": "ipython",
    "version": 3
   },
   "file_extension": ".py",
   "mimetype": "text/x-python",
   "name": "python",
   "nbconvert_exporter": "python",
   "pygments_lexer": "ipython3",
   "version": "3.6.6"
  }
 },
 "nbformat": 4,
 "nbformat_minor": 2
}
