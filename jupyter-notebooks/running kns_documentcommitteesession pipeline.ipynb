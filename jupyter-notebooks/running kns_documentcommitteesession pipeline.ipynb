{
 "cells": [
  {
   "cell_type": "markdown",
   "metadata": {},
   "source": [
    "The pipeline takes a long time to run for all committee sessions\n",
    "\n",
    "You should limit to running on a subset of sessions with cache by adding a filter step to kns_documentcommitteesession\n",
    "\n",
    "```\n",
    "  additional-steps:\n",
    "  - run: filter\n",
    "    cache: true\n",
    "    parameters:\n",
    "      in:\n",
    "      - CommitteeSessionID: 2063122\n",
    "      - CommitteeSessionID: 2063126\n",
    "```\n",
    "\n",
    "Start a tika server for parsing doc / docx files:\n",
    "\n",
    "```\n",
    "docker run --rm -p 9998:9998 logicalspark/docker-tikaserver\n",
    "```\n",
    "\n",
    "Check that the Tika server is accessible via the notebook environment:"
   ]
  },
  {
   "cell_type": "code",
   "execution_count": null,
   "metadata": {},
   "outputs": [],
   "source": [
    "%%bash\n",
    "curl 172.17.0.1:9998 | tail"
   ]
  },
  {
   "cell_type": "markdown",
   "metadata": {},
   "source": [
    "Run the pipelines, setting the tika server environment var with the correct value:"
   ]
  },
  {
   "cell_type": "code",
   "execution_count": 3,
   "metadata": {},
   "outputs": [
    {
     "name": "stdout",
     "output_type": "stream",
     "text": [
      "[./committees/kns_documentcommitteesession:T_0] >>> INFO    :21d7377f RUNNING ./committees/kns_documentcommitteesession\n",
      "[./committees/kns_documentcommitteesession:T_0] >>> INFO    :21d7377f Collecting dependencies\n",
      "[./committees/kns_documentcommitteesession:T_0] >>> INFO    :21d7377f Running async task\n",
      "[./committees/kns_documentcommitteesession:T_0] >>> INFO    :21d7377f Waiting for completion\n",
      "[./committees/kns_documentcommitteesession:T_0] >>> INFO    :21d7377f Async task starting\n",
      "[./committees/kns_documentcommitteesession:T_0] >>> INFO    :21d7377f Searching for existing caches\n",
      "[./committees/kns_documentcommitteesession:T_0] >>> INFO    :Found cache for step 2: filter\n",
      "[./committees/kns_documentcommitteesession:T_0] >>> INFO    :21d7377f Building process chain:\n",
      "[./committees/kns_documentcommitteesession:T_0] >>> INFO    :- cache_loader\n",
      "[./committees/kns_documentcommitteesession:T_0] >>> INFO    :- download_document_committee_session\n",
      "[./committees/kns_documentcommitteesession:T_0] >>> INFO    :- parse_meeting_protocols\n",
      "[./committees/kns_documentcommitteesession:T_0] >>> INFO    :- parse_meeting_protocols\n",
      "[./committees/kns_documentcommitteesession:T_0] >>> INFO    :- knesset.dump_to_path\n",
      "[./committees/kns_documentcommitteesession:T_0] >>> INFO    :- knesset.dump_to_sql\n",
      "[./committees/kns_documentcommitteesession:T_0] >>> INFO    :- (sink)\n",
      "[./committees/kns_documentcommitteesession:T_0] >>> INFO    :download_document_committee_session: INFO    :Processed 2 rows\n",
      "[./committees/kns_documentcommitteesession:T_0] >>> INFO    :21d7377f DONE /usr/local/lib/python3.6/site-packages/datapackage_pipelines/specs/../lib/cache_loader.py\n",
      "[./committees/kns_documentcommitteesession:T_0] >>> INFO    :21d7377f DONE /pipelines/committees/download_document_committee_session.py\n",
      "[./committees/kns_documentcommitteesession:T_0] >>> INFO    :parse_meeting_protocols: INFO    :Processed 2 rows\n",
      "[./committees/kns_documentcommitteesession:T_0] >>> INFO    :parse_meeting_protocols: INFO    :Processed 2 rows\n",
      "[./committees/kns_documentcommitteesession:T_0] >>> INFO    :21d7377f DONE /pipelines/committees/parse_meeting_protocols.py\n",
      "[./committees/kns_documentcommitteesession:T_0] >>> INFO    :knesset.dump_to_path: INFO    :Processed 2 rows\n",
      "[./committees/kns_documentcommitteesession:T_0] >>> INFO    :knesset.dump_to_sql: INFO    :Processed 2 rows\n",
      "[./committees/kns_documentcommitteesession:T_0] >>> INFO    :21d7377f DONE /pipelines/committees/parse_meeting_protocols.py\n",
      "[./committees/kns_documentcommitteesession:T_0] >>> INFO    :21d7377f DONE /pipelines/datapackage_pipelines_knesset/processors/dump_to_path.py\n",
      "[./committees/kns_documentcommitteesession:T_0] >>> INFO    :21d7377f DONE /usr/local/lib/python3.6/site-packages/datapackage_pipelines/manager/../lib/internal/sink.py\n",
      "[./committees/kns_documentcommitteesession:T_0] >>> INFO    :21d7377f DONE /pipelines/datapackage_pipelines_knesset/processors/dump_to_sql.py\n",
      "[./committees/kns_documentcommitteesession:T_0] >>> INFO    :21d7377f DONE V ./committees/kns_documentcommitteesession {'.dpp': {'out-datapackage-url': '../data/committees/kns_documentcommitteesession/datapackage.json'}, 'bytes': None, 'count_of_rows': 2, 'dataset_name': '_', 'download: downloaded files': 0, 'download: errored files': 0, 'download: existing files': 2, 'download: skipped files': 0, 'hash': '141945165787fffea9cf09d54c201a18', 'parts: errored files': 0, 'parts: existing files': 2, 'parts: missing download files': 0, 'parts: parsed files': 0, 'parts: skipped files': 0, 'text: errored files': 0, 'text: existing files': 2, 'text: missing download files': 0, 'text: parsed files': 0, 'text: skipped files': 0}\n",
      "INFO    :RESULTS:\n",
      "INFO    :SUCCESS: ./committees/kns_documentcommitteesession {'bytes': None, 'count_of_rows': 2, 'dataset_name': '_', 'download: downloaded files': 0, 'download: errored files': 0, 'download: existing files': 2, 'download: skipped files': 0, 'hash': '141945165787fffea9cf09d54c201a18', 'parts: errored files': 0, 'parts: existing files': 2, 'parts: missing download files': 0, 'parts: parsed files': 0, 'parts: skipped files': 0, 'text: errored files': 0, 'text: existing files': 2, 'text: missing download files': 0, 'text: parsed files': 0, 'text: skipped files': 0}\n"
     ]
    }
   ],
   "source": [
    "!{'cd /pipelines; TIKA_SERVER_ENDPOINT=http://172.17.0.1:9998 dpp run --verbose ./committees/kns_documentcommitteesession'}"
   ]
  },
  {
   "cell_type": "markdown",
   "metadata": {},
   "source": [
    "## Inspect the output"
   ]
  },
  {
   "cell_type": "code",
   "execution_count": 9,
   "metadata": {},
   "outputs": [],
   "source": [
    "from dataflows import Flow, load, printer\n",
    "documentcommitteesessions = Flow(load('/pipelines/data/committees/kns_documentcommitteesession/datapackage.json')).results()[0][0]"
   ]
  },
  {
   "cell_type": "code",
   "execution_count": 19,
   "metadata": {},
   "outputs": [
    {
     "data": {
      "text/plain": [
       "{'download': '/pipelines/data/committees/download_document_committee_session/files/23/4/3/434231.DOC',\n",
       " 'text': '/pipelines/data/committees/meeting_protocols_text/files/2/0/2063122.txt',\n",
       " 'text_hash': '/pipelines/data/committees/meeting_protocols_text/files/2/0/2063122.txt.hash',\n",
       " 'parts': '/pipelines/data/committees/meeting_protocols_parts/files/2/0/2063122.csv',\n",
       " 'parts_hash': '/pipelines/data/committees/meeting_protocols_parts/files/2/0/2063122.csv.hash'}"
      ]
     },
     "execution_count": 19,
     "metadata": {},
     "output_type": "execute_result"
    }
   ],
   "source": [
    "session_id = 2063122\n",
    "session = [session for session in documentcommitteesessions if session['CommitteeSessionID'] == session_id][0]\n",
    "session_files = {\n",
    "    'download': '/pipelines/data/committees/download_document_committee_session/'+session['download_filename'],\n",
    "    'text': '/pipelines/data/committees/meeting_protocols_text/'+session['text_parsed_filename'],\n",
    "    'text_hash': '/pipelines/data/committees/meeting_protocols_text/'+session['text_parsed_filename']+'.hash',\n",
    "    'parts': '/pipelines/data/committees/meeting_protocols_parts/'+session['parts_parsed_filename'],\n",
    "    'parts_hash': '/pipelines/data/committees/meeting_protocols_parts/'+session['parts_parsed_filename']+'.hash',\n",
    "}\n",
    "session_files"
   ]
  },
  {
   "cell_type": "code",
   "execution_count": 25,
   "metadata": {},
   "outputs": [
    {
     "name": "stdout",
     "output_type": "stream",
     "text": [
      "-rw-r--r--    1 root     root       46.0K Oct 15 06:17 /pipelines/data/committees/download_document_committee_session/files/23/4/3/434231.DOC\n",
      "-rw-r--r--    1 root     root       83.1K Oct 15 18:02 /pipelines/data/committees/meeting_protocols_text/files/2/0/2063122.txt\n",
      "-rw-r--r--    1 root     root          32 Oct 15 18:02 /pipelines/data/committees/meeting_protocols_text/files/2/0/2063122.txt.hash\n",
      "-rw-r--r--    1 root     root       83.1K Oct 15 18:02 /pipelines/data/committees/meeting_protocols_parts/files/2/0/2063122.csv\n",
      "-rw-r--r--    1 root     root          32 Oct 15 18:02 /pipelines/data/committees/meeting_protocols_parts/files/2/0/2063122.csv.hash\n"
     ]
    }
   ],
   "source": [
    "import subprocess\n",
    "\n",
    "for k, v in session_files.items():\n",
    "    print(subprocess.check_output('ls -lah '+v, shell=True).decode().strip())"
   ]
  }
 ],
 "metadata": {
  "kernelspec": {
   "display_name": "Python 3",
   "language": "python",
   "name": "python3"
  },
  "language_info": {
   "codemirror_mode": {
    "name": "ipython",
    "version": 3
   },
   "file_extension": ".py",
   "mimetype": "text/x-python",
   "name": "python",
   "nbconvert_exporter": "python",
   "pygments_lexer": "ipython3",
   "version": "3.6.6"
  }
 },
 "nbformat": 4,
 "nbformat_minor": 2
}
