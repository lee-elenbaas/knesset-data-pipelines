{
 "cells": [
  {
   "cell_type": "markdown",
   "metadata": {},
   "source": [
    "# Run the generate-sitemap pipeline\n",
    "\n",
    "[dpp](https://github.com/frictionlessdata/datapackage-pipelines) runs the knesset data pipelines periodically on our server.\n",
    "\n",
    "This notebook runs the generate-sitemap pipelines which generates the sitemap at https://oknesset.org/sitemap.txt"
   ]
  },
  {
   "cell_type": "markdown",
   "metadata": {},
   "source": [
    "## Generate the site\n",
    "\n",
    "Run the render site pages notebook\n",
    "\n",
    "Verify:"
   ]
  },
  {
   "cell_type": "code",
   "execution_count": 41,
   "metadata": {},
   "outputs": [
    {
     "name": "stdout",
     "output_type": "stream",
     "text": [
      "committees\n",
      "1559\n",
      "factions\n",
      "26\n",
      "meetings\n",
      "2977\n",
      "members\n",
      "2081\n"
     ]
    }
   ],
   "source": [
    "%%bash\n",
    "echo committees\n",
    "ls -lah ../data/committees/dist/dist/committees | wc -l\n",
    "echo factions\n",
    "ls -lah ../data/committees/dist/dist/factions | wc -l\n",
    "echo meetings\n",
    "ls -lah ../data/committees/dist/dist/meetings/*/* | wc -l\n",
    "echo members\n",
    "ls -lah ../data/committees/dist/dist/members | wc -l"
   ]
  },
  {
   "cell_type": "markdown",
   "metadata": {},
   "source": [
    "## Run the generate-sitemap pipeline"
   ]
  },
  {
   "cell_type": "code",
   "execution_count": 49,
   "metadata": {},
   "outputs": [
    {
     "name": "stdout",
     "output_type": "stream",
     "text": [
      "[./knesset/generate-sitemap:T_0] >>> INFO    :6d1ce4d1 RUNNING ./knesset/generate-sitemap\n",
      "[./knesset/generate-sitemap:T_0] >>> INFO    :6d1ce4d1 Collecting dependencies\n",
      "[./knesset/generate-sitemap:T_0] >>> INFO    :6d1ce4d1 Running async task\n",
      "[./knesset/generate-sitemap:T_0] >>> INFO    :6d1ce4d1 Waiting for completion\n",
      "[./knesset/generate-sitemap:T_0] >>> INFO    :6d1ce4d1 Async task starting\n",
      "[./knesset/generate-sitemap:T_0] >>> INFO    :6d1ce4d1 Searching for existing caches\n",
      "[./knesset/generate-sitemap:T_0] >>> INFO    :6d1ce4d1 Building process chain:\n",
      "[./knesset/generate-sitemap:T_0] >>> INFO    :- generate_sitemap\n",
      "[./knesset/generate-sitemap:T_0] >>> INFO    :- (sink)\n",
      "[./knesset/generate-sitemap:T_0] >>> INFO    :generate_sitemap: INFO    :loading from data path: /pipelines/data/committees/dist/dist\n",
      "[./knesset/generate-sitemap:T_0] >>> INFO    :generate_sitemap: INFO    :num_links_per_file=50000\n",
      "[./knesset/generate-sitemap:T_0] >>> INFO    :6d1ce4d1 DONE /usr/local/lib/python3.6/site-packages/datapackage_pipelines/manager/../lib/internal/sink.py\n",
      "[./knesset/generate-sitemap:T_0] >>> INFO    :6d1ce4d1 DONE /pipelines/knesset/generate_sitemap.py\n",
      "[./knesset/generate-sitemap:T_0] >>> INFO    :6d1ce4d1 DONE V ./knesset/generate-sitemap {'num-directories': 43, 'num-files': 3197, 'num-sitemap-links': 3197, 'num-sitemap-txt-files': 1}\n",
      "INFO    :RESULTS:\n",
      "INFO    :SUCCESS: ./knesset/generate-sitemap {'num-directories': 43, 'num-files': 3197, 'num-sitemap-links': 3197, 'num-sitemap-txt-files': 1}\n"
     ]
    }
   ],
   "source": [
    "!{'cd /pipelines; dpp run --verbose ./knesset/generate-sitemap'}"
   ]
  },
  {
   "cell_type": "markdown",
   "metadata": {},
   "source": [
    "## View the sitemap"
   ]
  },
  {
   "cell_type": "code",
   "execution_count": 43,
   "metadata": {},
   "outputs": [
    {
     "name": "stdout",
     "output_type": "stream",
     "text": [
      "number of committees: 778\n",
      "first 10 committees:\n",
      "https://oknesset.org/committees/965.html\n",
      "https://oknesset.org/committees/928.html\n",
      "https://oknesset.org/committees/index.html\n",
      "https://oknesset.org/committees/109.html\n",
      "https://oknesset.org/committees/430.html\n",
      "https://oknesset.org/committees/1004.html\n",
      "https://oknesset.org/committees/23.html\n",
      "https://oknesset.org/committees/126.html\n",
      "https://oknesset.org/committees/123.html\n",
      "https://oknesset.org/committees/711.html\n",
      "number of meetings: 1002\n",
      "first 10 meetings:\n",
      "https://oknesset.org/meetings/4/2/425865.html\n",
      "https://oknesset.org/meetings/4/2/428527.html\n",
      "https://oknesset.org/meetings/4/2/422217.html\n",
      "https://oknesset.org/meetings/4/2/425287.html\n",
      "https://oknesset.org/meetings/4/2/429615.html\n",
      "https://oknesset.org/meetings/4/2/425155.html\n",
      "https://oknesset.org/meetings/4/2/426910.html\n",
      "https://oknesset.org/meetings/4/2/425961.html\n",
      "https://oknesset.org/meetings/4/2/424526.html\n",
      "https://oknesset.org/meetings/4/2/426405.html\n"
     ]
    }
   ],
   "source": [
    "%%bash\n",
    "echo number of committees: `cat ../data/committees/dist/dist/sitemap.txt | grep committees | wc -l`\n",
    "echo first 10 committees:\n",
    "cat ../data/committees/dist/dist/sitemap.txt | grep committees | head\n",
    "echo number of meetings: `cat ../data/committees/dist/dist/sitemap.txt | grep meetings | wc -l`\n",
    "echo first 10 meetings:\n",
    "cat ../data/committees/dist/dist/sitemap.txt | grep meetings | head"
   ]
  }
 ],
 "metadata": {
  "kernelspec": {
   "display_name": "Python 3",
   "language": "python",
   "name": "python3"
  },
  "language_info": {
   "codemirror_mode": {
    "name": "ipython",
    "version": 3
   },
   "file_extension": ".py",
   "mimetype": "text/x-python",
   "name": "python",
   "nbconvert_exporter": "python",
   "pygments_lexer": "ipython3",
   "version": "3.6.6"
  }
 },
 "nbformat": 4,
 "nbformat_minor": 2
}
